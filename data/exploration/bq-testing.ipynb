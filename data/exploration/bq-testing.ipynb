{
 "cells": [
  {
   "cell_type": "code",
   "execution_count": 1,
   "id": "2fd524ae",
   "metadata": {},
   "outputs": [
    {
     "name": "stdout",
     "output_type": "stream",
     "text": [
      "Mary\n",
      "Roberta\n",
      "Marguerite\n",
      "Katie\n",
      "Eunice\n",
      "Nell\n",
      "Bonnie\n",
      "Susie\n",
      "Marguerite\n",
      "Carmen\n",
      "Eva\n",
      "Hazel\n",
      "Mattie\n",
      "Jewell\n",
      "Margaret\n",
      "Bessie\n",
      "Vivian\n",
      "Francisca\n",
      "Bernice\n",
      "Ella\n",
      "Christine\n",
      "Julia\n",
      "Lula\n",
      "Billie\n",
      "Lou\n",
      "Catherine\n",
      "Claudia\n",
      "Hattie\n",
      "Maxine\n",
      "Sarah\n",
      "Lucile\n",
      "Minnie\n",
      "Addie\n",
      "Ernestine\n",
      "Janie\n",
      "Melba\n",
      "Della\n",
      "Sadie\n",
      "Virginia\n",
      "Ima\n",
      "Dolores\n",
      "Ruth\n",
      "Maurine\n",
      "Odessa\n",
      "Manuela\n",
      "Josefa\n",
      "Isabel\n",
      "Antonia\n",
      "Elisa\n",
      "Esther\n",
      "Rosie\n",
      "Sylvia\n",
      "Ada\n",
      "Cecilia\n",
      "Ruth\n",
      "Nell\n",
      "Rebecca\n",
      "Dora\n",
      "Willie\n",
      "Susie\n",
      "Vera\n",
      "Roberta\n",
      "Lola\n",
      "Reba\n",
      "Santos\n",
      "Juanita\n",
      "Verna\n",
      "Lois\n",
      "Cleo\n",
      "Ima\n",
      "Maggie\n",
      "Rebecca\n",
      "Florine\n",
      "Freddie\n",
      "Johnnie\n",
      "Grace\n",
      "Adela\n",
      "Bennie\n",
      "Estelle\n",
      "Johnie\n",
      "Nellie\n",
      "Eva\n",
      "Nora\n",
      "Charlie\n",
      "Georgia\n",
      "Verna\n",
      "Olivia\n",
      "Earline\n",
      "Cecilia\n",
      "Anita\n",
      "Eddie\n",
      "Johnnie\n",
      "Lois\n",
      "Kathleen\n",
      "Virginia\n",
      "Rita\n",
      "Elida\n",
      "Billie\n",
      "Ida\n",
      "Elizabeth\n"
     ]
    }
   ],
   "source": [
    "from google.cloud import bigquery\n",
    "\n",
    "client = bigquery.Client()\n",
    "\n",
    "# Perform a query.\n",
    "QUERY = (\n",
    "    'SELECT name FROM `bigquery-public-data.usa_names.usa_1910_2013` '\n",
    "    'WHERE state = \"TX\" '\n",
    "    'LIMIT 100')\n",
    "query_job = client.query(QUERY)  # API request\n",
    "rows = query_job.result()  # Waits for query to finish\n",
    "\n",
    "for row in rows:\n",
    "    print(row.name)"
   ]
  },
  {
   "cell_type": "code",
   "execution_count": null,
   "id": "41d02d5a",
   "metadata": {},
   "outputs": [],
   "source": [
    "SELECT * FROM `article-source.articles.hollywood_reporter` LIMIT 1000"
   ]
  },
  {
   "cell_type": "code",
   "execution_count": 3,
   "id": "016d0462",
   "metadata": {},
   "outputs": [
    {
     "name": "stdout",
     "output_type": "stream",
     "text": [
      "Row(('‘The Miracle Club’ Review: Maggie Smith, Laura Linney and Kathy Bates in a Trite Story of Forgiveness', 'Set in 1967, the film follows heroines who travel from Dublin to the shrine at Lourdes, praying for help.', 'Caryn James', 'https://www.hollywoodreporter.com/movies/movie-reviews/the-miracle-club-review-maggie-smith-laura-linney-1235528873/', datetime.datetime(2023, 7, 11, 13, 0)), {'title': 0, 'blurb': 1, 'author': 2, 'url': 3, 'create_time': 4})\n",
      "Row(('‘Gran Turismo’ Review: Orlando Bloom and David Harbour in Neill Blomkamp’s Dynamic Race Car Movie', 'Archie Madekwe co-stars alongside Djimon Hounsou and Geri Halliwell Horner in this feature sourced from the archives of Sony’s long-running PlayStation video game franchise.', 'Justin Lowe', 'https://www.hollywoodreporter.com/movies/movie-reviews/gran-turismo-review-orlando-bloom-david-harbour-neill-blomkamp-1235557511/', datetime.datetime(2023, 8, 9, 13, 0)), {'title': 0, 'blurb': 1, 'author': 2, 'url': 3, 'create_time': 4})\n",
      "Row(('‘Big Boys’ Review: An Affecting Queer Coming-of-Age Reflection on Sexual Self-Discovery', 'Writer-director Corey Sherman’s gentle debut observes an awkward 14-year-old boy who develops a healing bond with his cousin’s beefy new man.', 'David Rooney', 'https://www.hollywoodreporter.com/movies/movie-reviews/big-boys-review-corey-sherman-queer-1235520692/', datetime.datetime(2023, 6, 8, 1, 0)), {'title': 0, 'blurb': 1, 'author': 2, 'url': 3, 'create_time': 4})\n",
      "Row(('‘Oppenheimer’ Review: Christopher Nolan’s Epic Is a Scorching Depiction of America’s Ability to Create and Destroy Its Heroes', 'Cillian Murphy stars as the “Father of the Atomic Bomb,” in a stacked ensemble that includes Emily Blunt, Matt Damon, Robert Downey Jr. and Florence Pugh.', 'David Rooney', 'https://www.hollywoodreporter.com/movies/movie-reviews/oppenheimer-review-christopher-nolan-cillian-murphy-robert-downey-jr-1235539375/', datetime.datetime(2023, 7, 20, 13, 0)), {'title': 0, 'blurb': 1, 'author': 2, 'url': 3, 'create_time': 4})\n",
      "Row(('‘Oppenheimer’ Review: Christopher Nolan’s Epic Is a Scorching Depiction of America’s Ability to Create and Destroy Its Heroes', 'Cillian Murphy stars as the “Father of the Atomic Bomb,” in a stacked ensemble that includes Emily Blunt, Matt Damon, Robert Downey Jr. and Florence Pugh.', 'David Rooney', 'https://www.hollywoodreporter.com/movies/movie-reviews/oppenheimer-review-christopher-nolan-cillian-murphy-robert-downey-jr-1235539375/', datetime.datetime(2023, 9, 20, 13, 0)), {'title': 0, 'blurb': 1, 'author': 2, 'url': 3, 'create_time': 4})\n",
      "Row(('‘Oppenheimer’ Review: Christopher Nolan’s Epic Is a Scorching Depiction of America’s Ability to Create and Destroy Its Heroes', 'Cillian Murphy stars as the “Father of the Atomic Bomb,” in a stacked ensemble that includes Emily Blunt, Matt Damon, Robert Downey Jr. and Florence Pugh.', 'David Rooney', 'https://www.hollywoodreporter.com/movies/movie-reviews/oppenheimer-review-christopher-nolan-cillian-murphy-robert-downey-jr-1235539375/', datetime.datetime(2023, 7, 21, 13, 0)), {'title': 0, 'blurb': 1, 'author': 2, 'url': 3, 'create_time': 4})\n",
      "Row(('‘Cobweb’ Review: Lizzy Caplan in a Haunted House Thriller That Starts Strong but Falls Apart', 'Antony Starr and Cleopatra Coleman also star in Samuel Bodin’s horror movie, with ‘C’mon C’mon’ discovery Woody Norman as the boy hearing bumps in the night.', 'David Rooney', 'https://www.hollywoodreporter.com/movies/movie-reviews/cobweb-review-lizzy-caplan-1235535801/', datetime.datetime(2023, 7, 20, 13, 0)), {'title': 0, 'blurb': 1, 'author': 2, 'url': 3, 'create_time': 4})\n",
      "Row(('‘Cobweb’ Review: Lizzy Caplan in a Haunted House Thriller That Starts Strong but Falls Apart', 'Antony Starr and Cleopatra Coleman also star in Samuel Bodin’s horror movie, with ‘C’mon C’mon’ discovery Woody Norman as the boy hearing bumps in the night.', 'David Rooney', 'https://www.hollywoodreporter.com/movies/movie-reviews/cobweb-review-lizzy-caplan-1235535801/', datetime.datetime(2023, 9, 20, 13, 0)), {'title': 0, 'blurb': 1, 'author': 2, 'url': 3, 'create_time': 4})\n",
      "Row(('‘Cobweb’ Review: Lizzy Caplan in a Haunted House Thriller That Starts Strong but Falls Apart', 'Antony Starr and Cleopatra Coleman also star in Samuel Bodin’s horror movie, with ‘C’mon C’mon’ discovery Woody Norman as the boy hearing bumps in the night.', 'David Rooney', 'https://www.hollywoodreporter.com/movies/movie-reviews/cobweb-review-lizzy-caplan-1235535801/', datetime.datetime(2023, 7, 21, 13, 0)), {'title': 0, 'blurb': 1, 'author': 2, 'url': 3, 'create_time': 4})\n",
      "Row(('‘Bird Box Barcelona’ Review: Spanish Spinoff of Netflix’s Horror Hit Pads Out a Thin Concept With Meager Gains', 'Mario Casas and Georgina Campbell star in Alex and David Pastor’s survival thriller about unseen creatures causing a plague of violent suicides, also featuring Diego Calva.', 'David Rooney', 'https://www.hollywoodreporter.com/movies/movie-reviews/bird-box-barcelona-review-netflix-1235530440/', datetime.datetime(2023, 7, 10, 13, 0)), {'title': 0, 'blurb': 1, 'author': 2, 'url': 3, 'create_time': 4})\n",
      "Row(('‘Mission: Impossible — Dead Reckoning Part One’ Review: Tom Cruise Amps Up the Electrifying Action but Story Is Strictly Secondary', 'Hayley Atwell joins returning cast Ving Rhames, Simon Pegg, Rebecca Ferguson and Vanessa Kirby in Christopher McQuarrie’s high-octane opening salvo of the two-part Ethan Hunt thriller.', 'David Rooney', 'https://www.hollywoodreporter.com/movies/movie-reviews/mission-impossible-dead-reckoning-part-one-review-tom-cruise-1235527819/', datetime.datetime(2023, 6, 8, 1, 0)), {'title': 0, 'blurb': 1, 'author': 2, 'url': 3, 'create_time': 4})\n",
      "Row(('‘Meg 2: The Trench’ Review: Jason Statham Carries a Heavy Load in Patchy Prehistoric Shark Sequel', 'Director Ben Wheatley goes bigger with this follow-up to the surprise summer 2018 hit, this time teaming Statham with Chinese action star Wu Jing.', 'David Rooney', 'https://www.hollywoodreporter.com/movies/movie-reviews/meg-2-the-trench-review-jason-statham-ben-wheatley-1235550391/', datetime.datetime(2023, 8, 4, 13, 0)), {'title': 0, 'blurb': 1, 'author': 2, 'url': 3, 'create_time': 4})\n",
      "Row(('Critic’s Notebook: William Friedkin’s Towering ‘The Exorcist’ Redefined Horror', 'The 1973 blockbuster nominated for 10 Oscars leaves an unparalleled stamp on the genre and in popular culture, sending chills down countless spines to this day.', 'David Rooney', 'https://www.hollywoodreporter.com/movies/movie-reviews/william-friedkin-the-exorcist-appreciation-1235558279/', datetime.datetime(2023, 8, 8, 13, 0)), {'title': 0, 'blurb': 1, 'author': 2, 'url': 3, 'create_time': 4})\n",
      "Row(('Critic’s Notebook: Let’s Talk About Sex, Just Don’t Show It', \"The NC-17 rating slapped on Ira Sachs’ 'Passages' and breathless talk about a few scenes in 'Oppenheimer' have renewed questions of whether — or why — American movies seem more sexually uptight than ever.\", 'David Rooney', 'https://www.hollywoodreporter.com/movies/movie-reviews/passages-oppenheimer-sex-scenes-ira-sachs-christopher-nolan-1235549698/', datetime.datetime(2023, 8, 10, 13, 0)), {'title': 0, 'blurb': 1, 'author': 2, 'url': 3, 'create_time': 4})\n",
      "Row(('‘Heart of Stone’ Review: Gal Gadot and Jamie Dornan Tangle in Familiar but Diverting Netflix Spy Thriller', 'Sophie Okonedo, Matthias Schweighöfer and Alia Bhatt also star in this race to save the crucial asset of a secret global peacekeeping agency.', 'David Rooney', 'https://www.hollywoodreporter.com/movies/movie-reviews/heart-of-stone-review-gal-gadot-jamie-dornan-netflix-1235561189/', datetime.datetime(2023, 8, 11, 13, 0)), {'title': 0, 'blurb': 1, 'author': 2, 'url': 3, 'create_time': 4})\n",
      "Row(('‘The Monkey King’ Review: Netflix Toon Deftly Reshapes Chinese Literary Classic Into Action-Packed Fun for Kids', 'Anthony Stacchi’s rollicking CG-animated fantasy inspired by ‘Journey to the West’ features a voice cast that includes Jimmy O. Yang, Bowen Yang, Stephanie Hsu and BD Wong.', 'David Rooney', 'https://www.hollywoodreporter.com/movies/movie-reviews/the-monkey-king-review-netflix-animation-1235561441/', datetime.datetime(2023, 8, 16, 13, 0)), {'title': 0, 'blurb': 1, 'author': 2, 'url': 3, 'create_time': 4})\n",
      "Row(('‘Blue Beetle’ Review: Xolo Maridueña Shines in Entertaining and Emotional DC Entry', 'Ángel Manuel Soto directs the first live-action superhero movie built around a Latino protagonist, with Susan Sarandon as the icy military-grade arms developer set on harnessing his powers.', 'David Rooney', 'https://www.hollywoodreporter.com/movies/movie-reviews/blue-beetle-review-xolo-mariduena-dc-1235567771/', datetime.datetime(2023, 8, 17, 13, 0)), {'title': 0, 'blurb': 1, 'author': 2, 'url': 3, 'create_time': 4})\n",
      "Row(('‘Insidious: The Red Door’ Review: Patrick Wilson Directs a Desultory Entry in the Hit Franchise', \"Wilson helms and stars in this fifth installment, a sequel to 2013's 'Insidious: Chapter 2.'\", 'Frank Scheck', 'https://www.hollywoodreporter.com/movies/movie-reviews/insidious-the-red-door-review-patrick-wilson-directs-a-desultory-entry-in-the-hit-franchise-1235532093/', datetime.datetime(2023, 7, 11, 13, 0)), {'title': 0, 'blurb': 1, 'author': 2, 'url': 3, 'create_time': 4})\n",
      "Row(('‘God Is a Bullet’ Review: Jamie Foxx and Nikolaj Coster-Waldau in Nick Cassavetes’ Brutal — and Brutally Silly — Thriller', 'Maika Monroe co-stars in this film about a cop who goes undercover in a murderous cult to find his kidnapped daughter.', 'Frank Scheck', 'https://www.hollywoodreporter.com/movies/movie-reviews/god-is-a-bullet-review-jamie-foxx-nikolaj-coster-waldau-nick-cassavetes-1235520779/', datetime.datetime(2023, 6, 8, 1, 0)), {'title': 0, 'blurb': 1, 'author': 2, 'url': 3, 'create_time': 4})\n",
      "Row(('‘The Hypnosis’ Review: A Razor-Sharp Satire on Conformity and Relationships', \"A woman loses her social inhibitions after being hypnotized to quit smoking in debuting Swedish director Ernst De Geer's dark comedy.\", 'Frank Scheck', 'https://www.hollywoodreporter.com/movies/movie-reviews/the-hypnosis-review-sweden-1235526922/', datetime.datetime(2023, 6, 8, 1, 0)), {'title': 0, 'blurb': 1, 'author': 2, 'url': 3, 'create_time': 4})\n",
      "Row(('‘The Beanie Bubble’ Review: Zach Galifianakis and Elizabeth Banks in a Fun but Familiar Tale of a ’90s Toy Craze', 'Sarah Snook and Geraldine Viswanathan co-star in this comedy-drama telling the behind-the-scenes story of the Beanie Babies phenomenon.', 'Frank Scheck', 'https://www.hollywoodreporter.com/movies/movie-reviews/the-beanie-bubble-review-zach-galifianakis-elizabeth-banks-1235539743/', datetime.datetime(2023, 7, 21, 13, 0)), {'title': 0, 'blurb': 1, 'author': 2, 'url': 3, 'create_time': 4})\n",
      "Row(('‘The Lost Children’ Review: A Lynchian Mystery That Stirs Up Childhood Nightmares', \"Four young siblings find themselves abandoned in a house in the woods in Belgian writer-director Michèle Jacob's creepily atmospheric suspenser.\", 'Frank Scheck', 'https://www.hollywoodreporter.com/movies/movie-reviews/the-lost-children-review-belgium-michele-jacob-1235526963/', datetime.datetime(2023, 6, 8, 1, 0)), {'title': 0, 'blurb': 1, 'author': 2, 'url': 3, 'create_time': 4})\n",
      "Row(('Critic’s Appreciation: Alan Arkin, King of Comforting Wryness (and That One Terrifying Jump Scare)', 'The Oscar-winning actor turned irascibility into an art form — and made it seem like the most natural and intelligent response to a world gone mad.', 'Frank Scheck', 'https://www.hollywoodreporter.com/movies/movie-reviews/alan-arkin-critic-appreciation-1235527317/', datetime.datetime(2023, 6, 8, 1, 0)), {'title': 0, 'blurb': 1, 'author': 2, 'url': 3, 'create_time': 4})\n",
      "Row(('‘Blaga’s Lessons’ Review: A Gripping Drama Powered By a Magnificent Lead Performance', \"A widow takes matters into her own hands after falling victim to a telephone scammer in Bulgarian director Stephan Komandarev's social injustice thriller.\", 'Frank Scheck', 'https://www.hollywoodreporter.com/movies/movie-reviews/blagas-lessons-review-stephan-komandarev-1235526910/', datetime.datetime(2023, 6, 8, 1, 0)), {'title': 0, 'blurb': 1, 'author': 2, 'url': 3, 'create_time': 4})\n",
      "Row(('‘Red Rooms’ Review: Icily Effective Chiller Makes the Murderer Less Scary Than His Groupies', \"A fashion model becomes obsessed with a serial killer who posts videos of his murders on the dark web in Pascal Plante's disturbing psychological thriller.\", 'Frank Scheck', 'https://www.hollywoodreporter.com/movies/movie-reviews/red-rooms-review-pascal-plante-1235526902/', datetime.datetime(2023, 6, 8, 1, 0)), {'title': 0, 'blurb': 1, 'author': 2, 'url': 3, 'create_time': 4})\n",
      "Row(('‘Empty Nets’ Review: Impressive Feature Debut Is a Gritty Iranian Gut Punch About a Financially Desperate Man', \"A young Iranian gets involved in black market caviar smuggling to earn the cash he needs for his marriage in Behrooz Karamizade's searing drama, premiering in Karlovy Vary.\", 'Frank Scheck', 'https://www.hollywoodreporter.com/movies/movie-reviews/empty-nets-review-1235526950/', datetime.datetime(2023, 6, 8, 1, 0)), {'title': 0, 'blurb': 1, 'author': 2, 'url': 3, 'create_time': 4})\n",
      "Row(('‘Dancing on the Edge of a Volcano’ Review: A Fascinating Real-Life Account of a Film Shoot Fraught With Setbacks', \"Cyril Aris' documentary chronicles the travails of a production company trying to make a movie in Lebanon, beset by obstacles in the wake of the devastating 2020 Port of Beirut explosion.\", 'Frank Scheck', 'https://www.hollywoodreporter.com/movies/movie-reviews/dancing-on-the-edge-of-a-volcano-review-1235526906/', datetime.datetime(2023, 6, 8, 1, 0)), {'title': 0, 'blurb': 1, 'author': 2, 'url': 3, 'create_time': 4})\n",
      "Row(('‘Haunted Mansion’ Review: LaKeith Stanfield, Tiffany Haddish and Owen Wilson in Justin Simien’s Deja Vu Disney Ride-Based Film', 'Rosario Dawson, Jamie Lee Curtis, Jared Leto and Danny DeVito also appear in this latest movie inspired by a theme park attraction.', 'Frank Scheck', 'https://www.hollywoodreporter.com/movies/movie-reviews/haunted-mansion-review-lakeith-stanfield-tiffany-haddish-owen-wilson-1235538263/', datetime.datetime(2023, 7, 26, 13, 0)), {'title': 0, 'blurb': 1, 'author': 2, 'url': 3, 'create_time': 4})\n",
      "Row(('‘Teenage Mutant Ninja Turtles: Mutant Mayhem’ Review: Seth Rogen’s Spin on Beloved Franchise Is a Rowdy Good Time', 'The adolescent reptiles are back in a new big-screen animated incarnation with a stellar voice cast including Jackie Chan, Ice Cube and Rose Byrne.', 'Frank Scheck', 'https://www.hollywoodreporter.com/movies/movie-reviews/teenage-mutant-ninja-turtles-mutant-mayhem-review-seth-rogens-spin-on-beloved-franchise-is-a-rowdy-good-time-1235544784/', datetime.datetime(2023, 7, 28, 13, 0)), {'title': 0, 'blurb': 1, 'author': 2, 'url': 3, 'create_time': 4})\n",
      "Row(('‘Jules’ Review: Ben Kingsley Stars in a Sweet Dramedy About Aliens and Aging', \"The Oscar winner plays an elderly man who discovers a crashed spaceship and an alien in his backyard in Marc Turtlebaub's film.\", 'Frank Scheck', 'https://www.hollywoodreporter.com/movies/movie-reviews/jules-review-ben-kingsley-stars-in-a-sweet-dramedy-about-aliens-and-aging-1235549647/', datetime.datetime(2023, 8, 8, 13, 0)), {'title': 0, 'blurb': 1, 'author': 2, 'url': 3, 'create_time': 4})\n",
      "Row(('‘The Last Voyage of the Demeter’ Review: Corey Hawkins in a Dull Dracula Tale', \"Costarring Aisling Franciosi, André Ovredal's horror film is based on a single chapter of Bram Stoker's classic novel 'Dracula.'\", 'Frank Scheck', 'https://www.hollywoodreporter.com/movies/movie-reviews/the-last-voyage-of-the-demeter-review-corey-hawkins-1235559847/', datetime.datetime(2023, 8, 11, 13, 0)), {'title': 0, 'blurb': 1, 'author': 2, 'url': 3, 'create_time': 4})\n",
      "Row(('‘Strays’ Review: Will Ferrell and Jamie Foxx Lead Voice Cast in an Amusingly Dirty Dog-Com', \"Isla Fisher, Randall Park and Josh Gad are among the other voice performers in this raunchy canine comedy from 'Barb & Star Go to Vista Del Mar' director Josh Greenbaum.\", 'Frank Scheck', 'https://www.hollywoodreporter.com/movies/movie-reviews/strays-review-will-ferrell-jamie-foxx-1235568014/', datetime.datetime(2023, 8, 17, 13, 0)), {'title': 0, 'blurb': 1, 'author': 2, 'url': 3, 'create_time': 4})\n",
      "Row(('‘You Are So Not Invited to My Bat Mitzvah’ Review: Adam and Sunny Sandler Bring Father-Daughter Sweetness to Netflix Teen Comedy', \"Sandler co-stars with his wife and two daughters in this film based on Fiona Rosenbloom's YA novel.\", 'Frank Scheck', 'https://www.hollywoodreporter.com/movies/movie-reviews/you-are-so-not-invited-to-my-bat-mitzvah-review-adam-sandler-netflix-1235569971/', datetime.datetime(2023, 8, 19, 13, 0)), {'title': 0, 'blurb': 1, 'author': 2, 'url': 3, 'create_time': 4})\n",
      "Row(('‘Back on the Strip’ Review: Wesley Snipes and Tiffany Haddish in a Male Stripper Comedy That Lacks the Right Moves', 'J.B. Smoove, Faizon Love, Gary Owen, Bill Bellamy and Kevin Hart also appear in this comedy about the reunion of a Black male stripper troupe.', 'Frank Scheck', 'https://www.hollywoodreporter.com/movies/movie-reviews/back-on-the-strip-review-wesley-snipes-tiffany-haddish-1235569867/', datetime.datetime(2023, 8, 19, 13, 0)), {'title': 0, 'blurb': 1, 'author': 2, 'url': 3, 'create_time': 4})\n",
      "Row(('Critic’s Notebook: A Generation’s Chords of Celebration, Elegy and Reckoning Resound in Two New Brit-Rock Docs', \"'Squaring the Circle (The Story of Hipgnosis)' and 'Have You Got It Yet? The Story of Syd Barrett and Pink Floyd' join a vibrant crop of recent documentaries that illuminate the epochal music scenes of the ’60s and ’70s.\", 'Sheri Linden', 'https://www.hollywoodreporter.com/movies/movie-reviews/critics-notebook-pink-floyd-brit-rock-docs-1235518340/', datetime.datetime(2023, 7, 17, 13, 0)), {'title': 0, 'blurb': 1, 'author': 2, 'url': 3, 'create_time': 4})\n",
      "Row(('Critic’s Notebook: A Generation’s Chords of Celebration, Elegy and Reckoning Resound in Two New Brit-Rock Docs', \"'Squaring the Circle (The Story of Hipgnosis)' and 'Have You Got It Yet? The Story of Syd Barrett and Pink Floyd' join a vibrant crop of recent documentaries that illuminate the epochal music scenes of the ’60s and ’70s.\", 'Sheri Linden', 'https://www.hollywoodreporter.com/movies/movie-reviews/critics-notebook-pink-floyd-brit-rock-docs-1235518340/', datetime.datetime(2023, 7, 19, 13, 0)), {'title': 0, 'blurb': 1, 'author': 2, 'url': 3, 'create_time': 4})\n",
      "Row(('Critic’s Notebook: A Generation’s Chords of Celebration, Elegy and Reckoning Resound in Two New Brit-Rock Docs', \"'Squaring the Circle (The Story of Hipgnosis)' and 'Have You Got It Yet? The Story of Syd Barrett and Pink Floyd' join a vibrant crop of recent documentaries that illuminate the epochal music scenes of the ’60s and ’70s.\", 'Sheri Linden', 'https://www.hollywoodreporter.com/movies/movie-reviews/critics-notebook-pink-floyd-brit-rock-docs-1235518340/', datetime.datetime(2023, 7, 20, 13, 0)), {'title': 0, 'blurb': 1, 'author': 2, 'url': 3, 'create_time': 4})\n",
      "Row(('Critic’s Notebook: A Generation’s Chords of Celebration, Elegy and Reckoning Resound in Two New Brit-Rock Docs', \"'Squaring the Circle (The Story of Hipgnosis)' and 'Have You Got It Yet? The Story of Syd Barrett and Pink Floyd' join a vibrant crop of recent documentaries that illuminate the epochal music scenes of the ’60s and ’70s.\", 'Sheri Linden', 'https://www.hollywoodreporter.com/movies/movie-reviews/critics-notebook-pink-floyd-brit-rock-docs-1235518340/', datetime.datetime(2023, 7, 14, 13, 0)), {'title': 0, 'blurb': 1, 'author': 2, 'url': 3, 'create_time': 4})\n",
      "Row(('Critic’s Notebook: A Generation’s Chords of Celebration, Elegy and Reckoning Resound in Two New Brit-Rock Docs', \"'Squaring the Circle (The Story of Hipgnosis)' and 'Have You Got It Yet? The Story of Syd Barrett and Pink Floyd' join a vibrant crop of recent documentaries that illuminate the epochal music scenes of the ’60s and ’70s.\", 'Sheri Linden', 'https://www.hollywoodreporter.com/movies/movie-reviews/critics-notebook-pink-floyd-brit-rock-docs-1235518340/', datetime.datetime(2023, 9, 20, 13, 0)), {'title': 0, 'blurb': 1, 'author': 2, 'url': 3, 'create_time': 4})\n",
      "Row(('Critic’s Notebook: A Generation’s Chords of Celebration, Elegy and Reckoning Resound in Two New Brit-Rock Docs', \"'Squaring the Circle (The Story of Hipgnosis)' and 'Have You Got It Yet? The Story of Syd Barrett and Pink Floyd' join a vibrant crop of recent documentaries that illuminate the epochal music scenes of the ’60s and ’70s.\", 'Sheri Linden', 'https://www.hollywoodreporter.com/movies/movie-reviews/critics-notebook-pink-floyd-brit-rock-docs-1235518340/', datetime.datetime(2023, 7, 16, 13, 0)), {'title': 0, 'blurb': 1, 'author': 2, 'url': 3, 'create_time': 4})\n",
      "Row(('Critic’s Notebook: A Generation’s Chords of Celebration, Elegy and Reckoning Resound in Two New Brit-Rock Docs', \"'Squaring the Circle (The Story of Hipgnosis)' and 'Have You Got It Yet? The Story of Syd Barrett and Pink Floyd' join a vibrant crop of recent documentaries that illuminate the epochal music scenes of the ’60s and ’70s.\", 'Sheri Linden', 'https://www.hollywoodreporter.com/movies/movie-reviews/critics-notebook-pink-floyd-brit-rock-docs-1235518340/', datetime.datetime(2023, 7, 15, 13, 0)), {'title': 0, 'blurb': 1, 'author': 2, 'url': 3, 'create_time': 4})\n",
      "Row(('Critic’s Notebook: A Generation’s Chords of Celebration, Elegy and Reckoning Resound in Two New Brit-Rock Docs', \"'Squaring the Circle (The Story of Hipgnosis)' and 'Have You Got It Yet? The Story of Syd Barrett and Pink Floyd' join a vibrant crop of recent documentaries that illuminate the epochal music scenes of the ’60s and ’70s.\", 'Sheri Linden', 'https://www.hollywoodreporter.com/movies/movie-reviews/critics-notebook-pink-floyd-brit-rock-docs-1235518340/', datetime.datetime(2023, 7, 21, 13, 0)), {'title': 0, 'blurb': 1, 'author': 2, 'url': 3, 'create_time': 4})\n",
      "Row(('‘The Unknown Country’ Review: Lily Gladstone Is the Radiant Center of a Lyrical Hybrid Drama', 'The ‘Killers of the Flower Moon’ star plays a young woman reconnecting with her Oglala Lakota relatives in a feature that weaves documentary elements into its road-trip narrative.', 'Sheri Linden', 'https://www.hollywoodreporter.com/movies/movie-reviews/the-unknown-country-review-lily-gladstone-lyrical-hybrid-drama-1235540849/', datetime.datetime(2023, 7, 28, 13, 0)), {'title': 0, 'blurb': 1, 'author': 2, 'url': 3, 'create_time': 4})\n",
      "Row(('‘The Beautiful Summer’ Review: An Uneven but Sensuous and Sensitive Coming-of-Age Drama', 'Set in 1938 Turin, Laura Luchetti’s adaptation of a novel by Cesare Pavese — premiering at the Locarno Film Festival — centers on a young woman’s sexual awakening.', 'Sheri Linden', 'https://www.hollywoodreporter.com/movies/movie-reviews/the-beautiful-summer-review-1235547333/', datetime.datetime(2023, 8, 5, 13, 0)), {'title': 0, 'blurb': 1, 'author': 2, 'url': 3, 'create_time': 4})\n",
      "Row(('‘They Cloned Tyrone’ Review: Jamie Foxx and John Boyega Are Cool Conspirators in a Stylish Netflix Caper', \"A drug dealer, a pimp and a sex worker join forces to uncover secrets about their community in Juel Taylor's debut feature.\", 'Lovia Gyarkye', 'https://www.hollywoodreporter.com/movies/movie-reviews/they-cloned-tyrone-review-john-boyega-teyonah-parris-and-jamie-foxx-1235532446/', datetime.datetime(2023, 7, 17, 13, 0)), {'title': 0, 'blurb': 1, 'author': 2, 'url': 3, 'create_time': 4})\n",
      "Row(('‘They Cloned Tyrone’ Review: Jamie Foxx and John Boyega Are Cool Conspirators in a Stylish Netflix Caper', \"A drug dealer, a pimp and a sex worker join forces to uncover secrets about their community in Juel Taylor's debut feature.\", 'Lovia Gyarkye', 'https://www.hollywoodreporter.com/movies/movie-reviews/they-cloned-tyrone-review-john-boyega-teyonah-parris-and-jamie-foxx-1235532446/', datetime.datetime(2023, 7, 19, 13, 0)), {'title': 0, 'blurb': 1, 'author': 2, 'url': 3, 'create_time': 4})\n",
      "Row(('‘They Cloned Tyrone’ Review: Jamie Foxx and John Boyega Are Cool Conspirators in a Stylish Netflix Caper', \"A drug dealer, a pimp and a sex worker join forces to uncover secrets about their community in Juel Taylor's debut feature.\", 'Lovia Gyarkye', 'https://www.hollywoodreporter.com/movies/movie-reviews/they-cloned-tyrone-review-john-boyega-teyonah-parris-and-jamie-foxx-1235532446/', datetime.datetime(2023, 7, 20, 13, 0)), {'title': 0, 'blurb': 1, 'author': 2, 'url': 3, 'create_time': 4})\n",
      "Row(('‘They Cloned Tyrone’ Review: Jamie Foxx and John Boyega Are Cool Conspirators in a Stylish Netflix Caper', \"A drug dealer, a pimp and a sex worker join forces to uncover secrets about their community in Juel Taylor's debut feature.\", 'Lovia Gyarkye', 'https://www.hollywoodreporter.com/movies/movie-reviews/they-cloned-tyrone-review-john-boyega-teyonah-parris-and-jamie-foxx-1235532446/', datetime.datetime(2023, 7, 14, 13, 0)), {'title': 0, 'blurb': 1, 'author': 2, 'url': 3, 'create_time': 4})\n",
      "Row(('‘They Cloned Tyrone’ Review: Jamie Foxx and John Boyega Are Cool Conspirators in a Stylish Netflix Caper', \"A drug dealer, a pimp and a sex worker join forces to uncover secrets about their community in Juel Taylor's debut feature.\", 'Lovia Gyarkye', 'https://www.hollywoodreporter.com/movies/movie-reviews/they-cloned-tyrone-review-john-boyega-teyonah-parris-and-jamie-foxx-1235532446/', datetime.datetime(2023, 9, 20, 13, 0)), {'title': 0, 'blurb': 1, 'author': 2, 'url': 3, 'create_time': 4})\n",
      "Row(('‘They Cloned Tyrone’ Review: Jamie Foxx and John Boyega Are Cool Conspirators in a Stylish Netflix Caper', \"A drug dealer, a pimp and a sex worker join forces to uncover secrets about their community in Juel Taylor's debut feature.\", 'Lovia Gyarkye', 'https://www.hollywoodreporter.com/movies/movie-reviews/they-cloned-tyrone-review-john-boyega-teyonah-parris-and-jamie-foxx-1235532446/', datetime.datetime(2023, 7, 16, 13, 0)), {'title': 0, 'blurb': 1, 'author': 2, 'url': 3, 'create_time': 4})\n",
      "Row(('‘They Cloned Tyrone’ Review: Jamie Foxx and John Boyega Are Cool Conspirators in a Stylish Netflix Caper', \"A drug dealer, a pimp and a sex worker join forces to uncover secrets about their community in Juel Taylor's debut feature.\", 'Lovia Gyarkye', 'https://www.hollywoodreporter.com/movies/movie-reviews/they-cloned-tyrone-review-john-boyega-teyonah-parris-and-jamie-foxx-1235532446/', datetime.datetime(2023, 7, 15, 13, 0)), {'title': 0, 'blurb': 1, 'author': 2, 'url': 3, 'create_time': 4})\n",
      "Row(('‘They Cloned Tyrone’ Review: Jamie Foxx and John Boyega Are Cool Conspirators in a Stylish Netflix Caper', \"A drug dealer, a pimp and a sex worker join forces to uncover secrets about their community in Juel Taylor's debut feature.\", 'Lovia Gyarkye', 'https://www.hollywoodreporter.com/movies/movie-reviews/they-cloned-tyrone-review-john-boyega-teyonah-parris-and-jamie-foxx-1235532446/', datetime.datetime(2023, 7, 21, 13, 0)), {'title': 0, 'blurb': 1, 'author': 2, 'url': 3, 'create_time': 4})\n",
      "Row(('‘Every Body’ Review: Documentary From ‘RBG’ Director Sensitively Chronicles Fight for Intersex Rights', \"Julie Cohen returns with an intimate film about how the intersex community challenges society's obsession with the gender binary.\", 'Lovia Gyarkye', 'https://www.hollywoodreporter.com/movies/movie-reviews/every-body-review-julie-cohen-1235518033/', datetime.datetime(2023, 6, 8, 1, 0)), {'title': 0, 'blurb': 1, 'author': 2, 'url': 3, 'create_time': 4})\n",
      "Row(('‘Ruby Gillman, Teenage Kraken’ Review: Lana Condor and Jane Fonda Voice Sweet but Conventional DreamWorks Film', 'The animation studio returns with a movie about a teenage sea monster who must confront family secrets while navigating high school.', 'Lovia Gyarkye', 'https://www.hollywoodreporter.com/movies/movie-reviews/ruby-gillman-teenage-kraken-review-lana-condor-jane-fonda-dreamworks-1235526208/', datetime.datetime(2023, 6, 8, 1, 0)), {'title': 0, 'blurb': 1, 'author': 2, 'url': 3, 'create_time': 4})\n",
      "Row(('‘Barbie’ Review: Margot Robbie and Ryan Gosling in Doll Comedy From Greta Gerwig That Delivers the Fun but Fudges the Politics', \"Barbie and Ken venture into the real world to try to save Barbieland in this fantasy adventure from the director of 'Lady Bird' and 'Little Women.'\", 'Lovia Gyarkye', 'https://www.hollywoodreporter.com/movies/movie-reviews/barbie-review-greta-gerwig-margot-robbie-ryan-gosling-1235538253/', datetime.datetime(2023, 7, 19, 13, 0)), {'title': 0, 'blurb': 1, 'author': 2, 'url': 3, 'create_time': 4})\n",
      "Row(('‘Barbie’ Review: Margot Robbie and Ryan Gosling in Doll Comedy From Greta Gerwig That Delivers the Fun but Fudges the Politics', \"Barbie and Ken venture into the real world to try to save Barbieland in this fantasy adventure from the director of 'Lady Bird' and 'Little Women.'\", 'Lovia Gyarkye', 'https://www.hollywoodreporter.com/movies/movie-reviews/barbie-review-greta-gerwig-margot-robbie-ryan-gosling-1235538253/', datetime.datetime(2023, 7, 20, 13, 0)), {'title': 0, 'blurb': 1, 'author': 2, 'url': 3, 'create_time': 4})\n",
      "Row(('‘Barbie’ Review: Margot Robbie and Ryan Gosling in Doll Comedy From Greta Gerwig That Delivers the Fun but Fudges the Politics', \"Barbie and Ken venture into the real world to try to save Barbieland in this fantasy adventure from the director of 'Lady Bird' and 'Little Women.'\", 'Lovia Gyarkye', 'https://www.hollywoodreporter.com/movies/movie-reviews/barbie-review-greta-gerwig-margot-robbie-ryan-gosling-1235538253/', datetime.datetime(2023, 9, 20, 13, 0)), {'title': 0, 'blurb': 1, 'author': 2, 'url': 3, 'create_time': 4})\n",
      "Row(('‘Barbie’ Review: Margot Robbie and Ryan Gosling in Doll Comedy From Greta Gerwig That Delivers the Fun but Fudges the Politics', \"Barbie and Ken venture into the real world to try to save Barbieland in this fantasy adventure from the director of 'Lady Bird' and 'Little Women.'\", 'Lovia Gyarkye', 'https://www.hollywoodreporter.com/movies/movie-reviews/barbie-review-greta-gerwig-margot-robbie-ryan-gosling-1235538253/', datetime.datetime(2023, 7, 21, 13, 0)), {'title': 0, 'blurb': 1, 'author': 2, 'url': 3, 'create_time': 4})\n",
      "Row(('‘The Perfect Find’ Review: Gabrielle Union and Gina Torres Anchor Messy Netflix Rom-Com', \"A former fashion editor stages a comeback and gets entangled with the son of her nemesis in Numa Perrier's soapy romantic comedy, also starring Keith Powers.\", 'Lovia Gyarkye', 'https://www.hollywoodreporter.com/movies/movie-reviews/the-perfect-find-review-gabrielle-union-netflix-1235521656/', datetime.datetime(2023, 6, 8, 1, 0)), {'title': 0, 'blurb': 1, 'author': 2, 'url': 3, 'create_time': 4})\n",
      "Row(('‘No Hard Feelings’ Review: Jennifer Lawrence Shines in Sweet and Saucy Summer Comedy', \"The actress stars alongside Andrew Barth Feldman in Gene Stupnitsky's movie about a woman hired by an awkward teen's parents to boost his confidence by dating him.\", 'Lovia Gyarkye', 'https://www.hollywoodreporter.com/movies/movie-reviews/no-hard-feelings-review-jennifer-lawrence-1235520111/', datetime.datetime(2023, 6, 8, 1, 0)), {'title': 0, 'blurb': 1, 'author': 2, 'url': 3, 'create_time': 4})\n",
      "Row(('‘Happiness for Beginners’ Review: Ellie Kemper Finds Love and a Fresh Start in a Listless Netflix Rom-Com', \"In Vicky Wight's movie, the 'Unbreakable Kimmy Schmidt' star plays a recent divorcee who embarks on a hiking trip to find herself.\", 'Lovia Gyarkye', 'https://www.hollywoodreporter.com/movies/movie-reviews/happiness-for-beginners-review-ellie-kemper-netflix-1235544738/', datetime.datetime(2023, 7, 26, 13, 0)), {'title': 0, 'blurb': 1, 'author': 2, 'url': 3, 'create_time': 4})\n",
      "Row(('‘Our Body’ Review: Claire Simon’s Intimate and Unflinching Look Inside a French Gynecology Ward', \"The director's latest documentary chronicles the experiences of patients in the gynecology department of a Parisian public hospital.\", 'Lovia Gyarkye', 'https://www.hollywoodreporter.com/movies/movie-reviews/our-body-review-claire-simon-1235549824/', datetime.datetime(2023, 8, 5, 13, 0)), {'title': 0, 'blurb': 1, 'author': 2, 'url': 3, 'create_time': 4})\n",
      "Row(('‘Medusa Deluxe’ Review: Thomas Hardiman’s Imperfect but Exciting Feature Debut', 'The A24 release plunges viewers into a competitive hairstyling community shaken by the murder of one of their own.', 'Lovia Gyarkye', 'https://www.hollywoodreporter.com/movies/movie-reviews/medusa-deluxe-review-1235560928/', datetime.datetime(2023, 8, 11, 13, 0)), {'title': 0, 'blurb': 1, 'author': 2, 'url': 3, 'create_time': 4})\n",
      "Row(('‘Red, White & Royal Blue’ Review: A Queer Romance Caught Clumsily Between Cutesy and Steamy', \"The U.S. president's son falls in love with an heir to the British throne in Amazon's adaptation of Casey McQuiston's novel, starring Taylor Zakhar Perez, Nicholas Galitzine and Uma Thurman.\", 'Lovia Gyarkye', 'https://www.hollywoodreporter.com/movies/movie-reviews/red-white-royal-blue-review-amazon-1235559028/', datetime.datetime(2023, 8, 11, 13, 0)), {'title': 0, 'blurb': 1, 'author': 2, 'url': 3, 'create_time': 4})\n",
      "Row(('‘Miguel Wants to Fight’ Review: Hulu’s Energetic Action Comedy Has Surprising Heart', \"Oz Rodriguez directs Jason Concepcion and Shea Serrano's story about a high-school student trying to get into his first fight.\", 'Lovia Gyarkye', 'https://www.hollywoodreporter.com/movies/movie-reviews/miguel-wants-to-fight-review-1235561761/', datetime.datetime(2023, 8, 17, 13, 0)), {'title': 0, 'blurb': 1, 'author': 2, 'url': 3, 'create_time': 4})\n",
      "Row(('‘The Out-Laws’ Review: Adam Devine and Pierce Brosnan in an Uninspired Netflix Crime Comedy', 'In Tyler Spindel’s feature, a young couple receive a surprise visit from the bride’s criminal-minded parents just before their wedding.', 'Jordan Mintzer', 'https://www.hollywoodreporter.com/movies/movie-reviews/the-out-laws-review-adam-devine-pierce-brosnan-netflix-1235529998/', datetime.datetime(2023, 6, 8, 1, 0)), {'title': 0, 'blurb': 1, 'author': 2, 'url': 3, 'create_time': 4})\n",
      "Row(('‘Sympathy for the Devil’ Review: An Unhinged Nicolas Cage Drives a Standard if Enjoyable Road Thriller', 'Joel Kinnaman co-stars in Yuval Adler’s violent two-hander about a driver and passenger engaging in a long duel of death.', 'Jordan Mintzer', 'https://www.hollywoodreporter.com/movies/movie-reviews/sympathy-for-the-devil-review-nicolas-cage-1235540249/', datetime.datetime(2023, 7, 24, 13, 0)), {'title': 0, 'blurb': 1, 'author': 2, 'url': 3, 'create_time': 4})\n",
      "Row(('‘The Beasts’ Review: Spanish Director Rodrigo Sorogoyen’s Searing Small-Town Thriller', 'French actors Denis Ménochet and Marina Foïs star as a couple desperately trying to keep their organic farm afloat in a hostile foreign land.', 'Jordan Mintzer', 'https://www.hollywoodreporter.com/movies/movie-reviews/the-beasts-review-rodrigo-sorogoyen-1235543818/', datetime.datetime(2023, 7, 25, 13, 0)), {'title': 0, 'blurb': 1, 'author': 2, 'url': 3, 'create_time': 4})\n",
      "Row(('‘Aporia’ Review: Judy Greer Stars in an Emotionally Effective, Lo-Fi Sci-Fi Indie', 'Edi Gathegi and Payman Maadi co-star in writer-director Jared Moshé’s drama about a time machine causing untold ripple effects among a handful of people.', 'Jordan Mintzer', 'https://www.hollywoodreporter.com/movies/movie-reviews/aporia-review-judy-greer-1235550037/', datetime.datetime(2023, 8, 4, 13, 0)), {'title': 0, 'blurb': 1, 'author': 2, 'url': 3, 'create_time': 4})\n",
      "Row(('‘Klondike’ Review: A Harrowing Ukrainian Drama Set at the Start of the War', \"Maryna Er Gorbach’s fourth feature won the World Cinema directing award at last year's Sundance Film Festival, while also scooping up prizes in Berlin and Sarajevo.\", 'Jordan Mintzer', 'https://www.hollywoodreporter.com/movies/movie-reviews/klondike-review-1235550920/', datetime.datetime(2023, 8, 5, 13, 0)), {'title': 0, 'blurb': 1, 'author': 2, 'url': 3, 'create_time': 4})\n",
      "Row(('‘Do Not Expect Too Much From the End of the World’ Review: Radu Jude’s Freewheeling Feminist Satire', \"For his new feature, which premiered in competition at Locarno, the Golden Bear-winning auteur focuses on two women fighting the patriarchy in Romania's past and present.\", 'Jordan Mintzer', 'https://www.hollywoodreporter.com/movies/movie-reviews/do-not-expect-too-much-from-the-end-of-the-world-review-radu-jude-1235557700/', datetime.datetime(2023, 8, 8, 13, 0)), {'title': 0, 'blurb': 1, 'author': 2, 'url': 3, 'create_time': 4})\n",
      "Row(('‘Sweet Dreams’ Review: A Surreal Satire Exploring Dutch Colonialism in Indonesia', 'Writer-director Ena Sendijarević’s movie, about a Dutch family whose small colonial empire crumbles, premiered in competition at the Locarno Film Festival.', 'Jordan Mintzer', 'https://www.hollywoodreporter.com/movies/movie-reviews/sweet-dreams-review-1235551688/', datetime.datetime(2023, 8, 8, 13, 0)), {'title': 0, 'blurb': 1, 'author': 2, 'url': 3, 'create_time': 4})\n",
      "Row(('‘Family Portrait’ Review: A Highly Cinematic Glimpse of a Fractured Reunion', 'Writer-director Lucy Kerr’s debut feature stars Deragh Campbell as a young woman returning home for a family gathering beset by a looming disaster.', 'Jordan Mintzer', 'https://www.hollywoodreporter.com/movies/movie-reviews/family-portrait-review-lucy-kerr-1235559688/', datetime.datetime(2023, 8, 10, 13, 0)), {'title': 0, 'blurb': 1, 'author': 2, 'url': 3, 'create_time': 4})\n",
      "Row(('‘Animal’ Review: A Darkly Intriguing Look at the Underbelly of Holiday Resorts', 'Greek writer-director Sofia Exarchou’s second feature, which premiered in competition at Locarno, focuses on a team of dancers entertaining guests at an all-inclusive hotel.', 'Jordan Mintzer', 'https://www.hollywoodreporter.com/movies/movie-reviews/animal-review-sofia-exarchou-1235561632/', datetime.datetime(2023, 8, 12, 13, 0)), {'title': 0, 'blurb': 1, 'author': 2, 'url': 3, 'create_time': 4})\n",
      "Row(('‘Critical Zone’ Review: ‘Taxi Driver’ Meets ‘Taste of Cherry’ in Provocative Iranian Road Movie', \"Writer-director Ali Ahmadzadeh was banned by his homeland from attending Locarno for the premiere of his fourth feature, which won the festival's top prize.\", 'Jordan Mintzer', 'https://www.hollywoodreporter.com/movies/movie-reviews/critical-zone-review-iran-1235567852/', datetime.datetime(2023, 8, 17, 13, 0)), {'title': 0, 'blurb': 1, 'author': 2, 'url': 3, 'create_time': 4})\n",
      "Row(('‘Yannick’ Review: Quentin Dupieux’s Twisted Take on French Boulevard Theater', \"In the multi-hyphenate filmmaker's latest romp, Raphaël Quenard stars as an unhappy spectator who decides to take matters into his own hands.\", 'Jordan Mintzer', 'https://www.hollywoodreporter.com/movies/movie-reviews/yannick-review-quentin-dupieux-1235568867/', datetime.datetime(2023, 8, 19, 13, 0)), {'title': 0, 'blurb': 1, 'author': 2, 'url': 3, 'create_time': 4})\n",
      "Row(('Hollywood Reporter Critics Pick the 10 Best Films of 2023 So Far', 'THR’s reviewers choose faves from the first half of the year, including\\xa0a Michelle Williams-Kelly Reichardt collab, Miles Morales’ latest adventure and an aching love-triangle drama.', 'David Rooney,Sheri Linden,Lovia Gyarkye,Jon Frosch,Leslie Felperin,Jordan Mintzer', 'https://www.hollywoodreporter.com/movies/movie-reviews/the-best-films-2023-year-so-far-1235519735/', datetime.datetime(2023, 6, 8, 1, 0)), {'title': 0, 'blurb': 1, 'author': 2, 'url': 3, 'create_time': 4})\n"
     ]
    }
   ],
   "source": [
    "# Perform a query.\n",
    "QUERY = (\n",
    "    'SELECT * FROM `article-source.articles.hollywood_reporter` LIMIT 1000')\n",
    "query_job = client.query(QUERY)  # API request\n",
    "rows = query_job.result()  # Waits for query to finish\n",
    "\n",
    "for row in rows:\n",
    "    print(row)"
   ]
  },
  {
   "cell_type": "code",
   "execution_count": 6,
   "id": "c1bdecff",
   "metadata": {},
   "outputs": [
    {
     "ename": "ValueError",
     "evalue": "('Iterator has already started', <google.cloud.bigquery.table.RowIterator object at 0x16697f790>)",
     "output_type": "error",
     "traceback": [
      "\u001b[0;31m---------------------------------------------------------------------------\u001b[0m",
      "\u001b[0;31mValueError\u001b[0m                                Traceback (most recent call last)",
      "Cell \u001b[0;32mIn[6], line 1\u001b[0m\n\u001b[0;32m----> 1\u001b[0m \u001b[38;5;28;01mfor\u001b[39;00m row \u001b[38;5;129;01min\u001b[39;00m rows:\n\u001b[1;32m      2\u001b[0m     \u001b[38;5;28mprint\u001b[39m(row)\n",
      "File \u001b[0;32m~/opt/anaconda3/envs/pbenv/lib/python3.8/site-packages/google/api_core/page_iterator.py:223\u001b[0m, in \u001b[0;36mIterator.__iter__\u001b[0;34m(self)\u001b[0m\n\u001b[1;32m    214\u001b[0m \u001b[38;5;124;03m\"\"\"Iterator for each item returned.\u001b[39;00m\n\u001b[1;32m    215\u001b[0m \n\u001b[1;32m    216\u001b[0m \u001b[38;5;124;03mReturns:\u001b[39;00m\n\u001b[0;32m   (...)\u001b[0m\n\u001b[1;32m    220\u001b[0m \u001b[38;5;124;03m    ValueError: If the iterator has already been started.\u001b[39;00m\n\u001b[1;32m    221\u001b[0m \u001b[38;5;124;03m\"\"\"\u001b[39;00m\n\u001b[1;32m    222\u001b[0m \u001b[38;5;28;01mif\u001b[39;00m \u001b[38;5;28mself\u001b[39m\u001b[38;5;241m.\u001b[39m_started:\n\u001b[0;32m--> 223\u001b[0m     \u001b[38;5;28;01mraise\u001b[39;00m \u001b[38;5;167;01mValueError\u001b[39;00m(\u001b[38;5;124m\"\u001b[39m\u001b[38;5;124mIterator has already started\u001b[39m\u001b[38;5;124m\"\u001b[39m, \u001b[38;5;28mself\u001b[39m)\n\u001b[1;32m    224\u001b[0m \u001b[38;5;28mself\u001b[39m\u001b[38;5;241m.\u001b[39m_started \u001b[38;5;241m=\u001b[39m \u001b[38;5;28;01mTrue\u001b[39;00m\n\u001b[1;32m    225\u001b[0m \u001b[38;5;28;01mreturn\u001b[39;00m \u001b[38;5;28mself\u001b[39m\u001b[38;5;241m.\u001b[39m_items_iter()\n",
      "\u001b[0;31mValueError\u001b[0m: ('Iterator has already started', <google.cloud.bigquery.table.RowIterator object at 0x16697f790>)"
     ]
    }
   ],
   "source": [
    "for row in rows:\n",
    "    print(row)"
   ]
  },
  {
   "cell_type": "code",
   "execution_count": 7,
   "id": "3e701aa6",
   "metadata": {},
   "outputs": [],
   "source": [
    "import pandas as pd"
   ]
  },
  {
   "cell_type": "code",
   "execution_count": 8,
   "id": "6743a9a9",
   "metadata": {},
   "outputs": [],
   "source": [
    "df = pd.read_json('bquxjob_1f8abc42_18a1a7db7ec.json')"
   ]
  },
  {
   "cell_type": "code",
   "execution_count": 10,
   "id": "0a68b273",
   "metadata": {},
   "outputs": [
    {
     "name": "stdout",
     "output_type": "stream",
     "text": [
      "<class 'pandas.core.frame.DataFrame'>\n",
      "RangeIndex: 78 entries, 0 to 77\n",
      "Data columns (total 6 columns):\n",
      " #   Column      Non-Null Count  Dtype \n",
      "---  ------      --------------  ----- \n",
      " 0   url         78 non-null     object\n",
      " 1   title       78 non-null     object\n",
      " 2   ct          78 non-null     object\n",
      " 3   detail_url  78 non-null     object\n",
      " 4   points      78 non-null     int64 \n",
      " 5   comments    78 non-null     object\n",
      "dtypes: int64(1), object(5)\n",
      "memory usage: 3.8+ KB\n"
     ]
    }
   ],
   "source": [
    "df.info()"
   ]
  },
  {
   "cell_type": "code",
   "execution_count": 19,
   "id": "8b455ac5",
   "metadata": {},
   "outputs": [
    {
     "data": {
      "text/plain": [
       "[\"I wish more pages took the pointer and resolution media queries into account. So many times I open windows side-by-side on my desktop and end up with the menu collapsing into a hamburger menu which fills the entire screen when clicked. Many phones today have very high DPI and very low precision in touch, so it makes sense to have massive visual elements and buttons, but my desktop with the same size in pixels as my phone but a much lower DPI and much higher input precision doesn't really need them.\",\n",
       " 'Nice web design but this jumped out at me:(they have 120000 viewpoints:\"Wembley stadium has a capacity of 90,000, so our datapoints could fill Wembley once and still fill another third of the available capacity.\"the way this is written adds to confusion rather than enlightens. \"another third of the available capacity\" makes it sound like there is space left over in wembley i.e. you haven\\'t fully filled it.I think people know how big 120.000 is, but if you must, just say its more than wembley',\n",
       " \"> It’s safest to presume that users on desktop or laptop devices are not filling their entire screen with a browser.Not on literally any laptop I've ever seen. I've never seen a screen where the browser _isn't_ filling all space available to them, sometimes even the entire screen (in fullscreen mode on MacOS).\",\n",
       " 'Scroll hijack makes this unusable',\n",
       " 'I didn’t experience any issues on my first read through, but on the second visit it now randomly scrolls back to the top of the viewport.',\n",
       " '> \"The main point we’re trying to get across is that you simply do not know how users are going to visit your website or web app. Instead of making design decisions on strict, limited breakpoints, keep in mind the sheer amount of fragmentation there is in viewports.\"I don\\'t know how useful this is.setting breakpoints allows some sanity in the build and testing process otherwise you have an infinite scope for issues which of course would be pretty lucrative for a boutique agency.> \"This goes all the way back to planning your projects too. When mapping out page content, ask yourself how it will be for the weird viewport sizes that don’t fit the typical mould? Always try to simplify and condense content to make it useful for everyone.\"it\\'s really not that complicated. keep the amount of crap (stuff that can go wrong) like animations, weird font sizes and font faces, javascript to a minimum. and dont do stuff like hijacking the scroll, zoom or other common behaviours. just dont do anything unless you absolutely have to.but thats why the web is such a hostile platform. difficult to manage high user/client expectations with pragmatism.',\n",
       " '> and dont do stuff like hijacking the scroll, zoom or other common behaviours.The hijacking of scrolling pisses me off so god damn much that I\\'ve considered building Firefox from source and modifying the code to completely eliminate a website\\'s ability to set the scroll position.[0]Front end devs, I implore you.Stop acting like you think you know what the user wants in regards to scrolling behavior.  Smooth scrolling already exists natively in every browser.There\\'s no need to try to re-implement it in JavaScript.  Your implementation will not work in every browser, and will only cause strange stuttering, bouncing, or even end up somehow completely disabling scrolling altogether.  Do not try to get fancy and implement \"momentum\" into scrolling.  You\\'re changing a well-understood behavior into something that is unexpected and jarring, and likely it won\\'t work anyways.Do not change the scrolling amount.  My wheel sensitivity and browser setting are configured so that 1-click ~= 2.5 lines of scrolling.  Do not imposeyourpreference of 1 click ~= 1 line on me.  You do not know better than me.And disabling zooming?WHO EVEN DECIDED THAT WEBSITES SHOULD BE ALLOWED TO DO THIS?!Itdestroysaccessibility!  Sometimes there\\'s text or an image that\\'s just a little too small to recognize.  I\\'d pinch to zoom in...but some moron front-end dev has adopted the beyond-bone-headed mentality of \"removing features is a feature!\" and makes their site tell the browser to not allow zooming because...why?  Someone please, tell me why.[0] I\\'m sure it\\'s possible to write an extension that could do this, but any time you\\'re manually setting the scroll position in code, you\\'re bound to fuck it up.  Rather just completely eliminate the ability to set the scroll position entirely.',\n",
       " '> And disabling zooming? WHO EVEN DECIDED THAT WEBSITES SHOULD BE ALLOWED TO DO THIS?!Applications such as maps, image editors, presentations, and flowcharts benefit from having control over zoom. (And you\\'ll notice that almost every one of them does.)This of course is only one difference of many between \"documents\" and \"applications\" and the web is being used for both.',\n",
       " \"Maps drive me fucking nuts, taking over zoom. As do nearly every other app that does it.  They think they know what's good for me, and they don't, and it leads to me using them less. Yes, paper maps just work better for me a lot of the time.The only thing maps.app or Google maps are good for are finding places to spend money or driving to places to spend money. If you have any other spatial interests, they're almost pointless.I would happily run a build that removes this capability.\",\n",
       " '> And disabling zooming?I had a weird experience with Google Groups recently - I zoomed in because the text was too small and ... the page resized the viewport to its original pixel size even though the font was scaling.  Ended up with about 10 characters in an unscrollable viewport.  HILARIOUS.',\n",
       " 'I had the opposite problem with a web page the other day.  When I zoomed in, the text resized itself to still fit the same amount of text in the viewport, but since other elements would zoom correctly, the more I zoomed in, thesmallerthe text got.',\n",
       " \"> The hijacking of scrolling pisses me off so god damn much that I've considered building Firefox from source and modifying the code to completely eliminate a website's ability to set the scroll position.[0]That'll break just about every cloud logging UI I'm aware of, but what you do to your own UA is your business.\",\n",
       " \"> I don't know how useful this is.I think very. I've never designed anything based on arbitrary breakpoints (md, lg, xl and whatever numbers they might translate to) because that forces me to make design choices around those constraints.The only way to sanely add breakpoints in my opinion is to gradually reduce the width of your page and search for things that start looking off. Are your paragraphs starting to look a little cramped? Add a breakpoint at that width, maybe remove the sidebar, maybe lower paddings and margins to allow it to stay a little longer, maybe manually reduce font size or switch your column layout to rows if applicable. Keep doing that until you get to ~350px width and everything looks fine. You decide what needs to change when it makes sense rather than being told that something needs to change at some specific breakpoint.\",\n",
       " \"> I don't know how useful this is.The website that is the subject of this discussion comes from Andy Bell.I would encourage you to see his other work, e.g. Every Layout[1], and the website[2] linked to a recent talk he gave[3].In particular the answer to your question can be found at 14:38[4] in the talk, perhaps more precisely the slide he shows at 14:59.[1]https://every-layout.dev[2]https://buildexcellentwebsit.es[3]https://www.youtube.com/watch?v=5uhIiI9Ld5M[4]https://youtu.be/5uhIiI9Ld5M?t=878\",\n",
       " \">I don't know how useful this is.>setting breakpoints allows some sanity in the build and testing processclamp allows for sane responsivenesshttps://developer.mozilla.org/en-US/docs/Web/CSS/clampand if needed you can add some minimal breakpoints.The fact is that most front end devs don't know about it, and there is no framework that I know of which is based around its use (and everything nowadays seems to be about the frameworks), thus you end up with inefficient multiple breakpoints which may seem sane until you get too close to one of the breakpoints and your design looks like crap until that point is hit and you can switch to the new values set for the breakpoint.breakpoints are a great solution if you happen to be living and working in the web of 3 years ago. But the clamp, min, and max functions have been available in every major browser since 2020 - even Opera.People keep telling me 3 years is an eternity in internet time, so why are there still all these damn breakpoints?\",\n",
       " \"For me it really just involves squishing the browser window in all sorts of ways and see what happens, and if I get any ideas on what I would want to change. I don't see what the big deal is.> crap (stuff that can go wrong) like animations, weird font sizes and font faces, javascriptNone of these per se are the issue, and you can still have the issue with zero animations, fonts or JavaScript.\",\n",
       " '> setting breakpoints allows some sanity in the build and testing process otherwise you have an infinite scope for issues which of course would be pretty lucrative for a boutique agency.Honestly, now that container queries are available, I see very little use for breakpoints. Container queries allow for easy reuse of components, and a truly fluid and responsive design.',\n",
       " \"IMO the promise of container queries isn't that breakpoints will go away, but rather that breakpoints can emerge from the bottom-up composition of components rather than top-down from your CSS framework or Tailwind config or whatever.You're still probably going to want the left sidebar of your multi-column layout to collapse behind a menu on narrow viewports and abruptly appear when the viewport width gets to >=n[0]. But it's conceivable that the value ofnemerges from some constraints you specify (such as the minimum desired width of the sidebar and the main content column), instead of being chosen upfront from a small list of predertmined breakpoints.[0] E.g.https://tailwindui.com/components/application-ui/application...\",\n",
       " \"While I suppose breakpoints might still have some use cases, I believe an overwhelming amount of the stuff we currently use them for can be better and more fluidly accomplished with container queries.The example you give of a sidebar collapse with a menu button replacement can easily be accomplished with a container query on the wrapping box, no?I'm honestly curious about a use case that a media query breakpoint can handle, but which a container query can't.\",\n",
       " 'I asked Anthropic\\'s Claude to give me the minimum window size in order to have full viewability among a percentile subset of the audience, using the data provided. That\\'s how I would interpret \"the ideal viewport.\" Here are the answers:\\n  Mobile:50% of viewports: Width 375, Height 635\\n  80%: Width 375, Height 635\\n  90%: Width 360, Height 560\\n  95%: Width 360, Height 550\\n  99%: Width 320, Height 500\\n  \\n  Desktop:\\n  \\n  50% of viewports: Width 1440, Height 900\\n  80%: Width 1024, Height 600\\n  90%: Width 1024, Height 600\\n  95%: Width 1024, Height 600\\n  99%: Width 800, Height 300',\n",
       " 'The problem is that at a real company, this is very difficult because you have to argue with your product/design team and explain why you don\\'t want to implement [x] feature because it\\'s \"too complex\". Inevitably they\\'ll point to some competitor website that has the same feature, which makes you look like you\\'re just lazy. It\\'s possible to succeed in those arguments, but it\\'s hard.It\\'s one thing to convince them not to do some weird scrolljacking, but even something like a dropdown or a popover adds a ton of complexity for responsive sites.',\n",
       " 'If your company cares one iota about accessibility, you can usually get those features off the table instantly just by arguing that point. \"Yeah, well it\\'s pretty clear that competitor doesn\\'t care about blind people\" is a pretty easy argument.I invite you to learn to use a screen reader and try using your app (whatever it happens to be). It\\'s seriously pretty terrible for some of these websites with all the fancy crap.',\n",
       " \"I envy you cause the teams and companies that I've worked with basically say fuck em to that argument.I have lost jobs and annoyed people trying to argue for greater care with accessibility. It's somewhat depressing.\",\n",
       " 'This is exactly what happens. Especially if your voice is in the minority \\nOr you’re the only one. You’re seen as a trouble maker. We all know what happens to trouble makers when margins are on the line.',\n",
       " \"I think there are some laws which require a certain degree of accessibility for at least government websites. And if your big company deals with government, they'd better think about that.\",\n",
       " \"There's one thing I absolutely will disable and that is the MFing pull to refresh. I hate that feature more than pretty much anything else about the Internet.Users can't, for some hideous reasons that should be illegal due to accessibility concerns, disable it, and it is an excellent way to accidentally throw away your work several times a month if you don't have very steady hands, depending on if the back button decides to not restore.\",\n",
       " \"If you need to get weird now, webgpu has arrived, what we really require is a dedicated demoscene on the live web ;)Your first WebGPU app (Conway's Game of Life)https://codelabs.developers.google.com/your-first-webgpu-app\",\n",
       " 'Fundamental dilemma:* The web is a great way to publish information and access a few services.* The web is the cross-platform operating system for applications.Everything stems from the difference in those two approaches. Both are correct.',\n",
       " \"Android app authors ought to read this too.  I recently had an android app where the button on one screen was past the bottom of my screenand it wasn't scrollable.  I went to report the bug and someone else had already reported it.Given that the workaround was to set the system font-size small enough that the button would appear back on the screen, this would also be an accessibility problem for those who have their font-size set larger, even if their screen would be normally large enough to display it.\",\n",
       " 'I\\'m not, and never was, a \"front-end guy\". I\\'ve noticed more and more quirks (bugs?) in UIs where something is off screen, or unclickable, or suffers extremely unhelpful placement that prevents or significantly impedes my use of a web site/app. Rotate phone/tablet, change font size, hide URL bar, mental note to try it on a desktop or laptop \"later\".\\nThis feels like the front-end version of \"it works in dev\".',\n",
       " 'If you’ve worked in front-end dev for a while you can be aware of all the issues.The problem, generally, is that frontend dev is taught poorly if it’s taught at all, and the barrier to entry is so low that there’s an Eternal September problem.',\n",
       " \"I'd think that eventually we'd have a large enough cohort of folks that know web dev well since the barrier is so low, but I think most people try to get out of frontend development asap.\",\n",
       " 'I have this shaky hypothesis where the majority of UX devs today (not just web devs) grew up consuming content on smart phones, ipads, and small laptop screens. Their default way of interacting with technology is one app or web page at a time, all in maximized windows taking up the whole screen, and switching between between full-screen apps to multi-task. Perhaps this pattern carries over into their adult work, where they design sites and apps that look great when taking up the whole screen of a typical PC or tablet, but outright fail when exposed to a typical \"windowed\" browser width.My normal browser width is about 1300 pixels and I see so many web sites and apps these days that can\\'t tolerate what I consider a very reasonable browser width that this is the only explanation I can come up with.',\n",
       " 'This. Unfortunately today, the desktop is an afterthought and everything is designed for “mobile first”. \\nI even see this in SaaS apps that should actually never be used on a phone. Or desktop OSes like windows and mac are increasingly using mobile paradigms on the desktop.There is so much whitespace, huge fonts, huge buttons, hamburger popup menu everywhere (aaaargh!!)Basically it boils down to the “information density” which is dumbed down to the lowest possible denominator.There should be a measure for this and websites/apps should be rates based on that.',\n",
       " \"It sounds like you are talking\\nabout gmail web at md2 era. The giant sidebar item that can only literally show 6 item on a 1080 screen. The giant mail row that display only 10 or maybe 15 mail on whole screen. And new mail button on right bottom that requires you move your mouse across the whole screen to write a new mail.It really makes me wonder 'wtf? Who designed that, did he actually try to use it by himself?'.At least it seems they steps back a bit now. Also they moved the new mail button back to top left.\",\n",
       " 'I\\'m actually not entirely sure what you\\'re talking about.I\\'m very familiar with websites switching to mobile layout with hamburger menu instead of a navigation bar, when you reduce the width of the browser window on your desktop. BUT I don\\'t think I\\'ve ever come across aresolution changewhere the website elements (either hamburger menu or content) get massively larger.Can you provide an example of one or two mainstream sites that change resolution like that?The reason I\\'m confused is because in CSS everything is based on logical pixels, not actual device pixels. E.g. a \"1 px\" width will be 2 or 3 hardware pixels wide on an iPhone. Similarly \"1 em\" will be 16 hardware pixels on a standard resolution display, but 32 or 48 hardware pixels on a 2x or 3x display. So web designers don\\'t have to do anything special to accomodate hi-DPI screens in the first place.',\n",
       " \"The resolution doesn't change, but a 64x64px icon button doesn't need to be that big on a desktop.\",\n",
       " \"But this is my point, I haven't been seeing any 64x64 px (logical pixels) hamburger menu icons out in the wild. That would be too big for mobile as well.The hamburger menu buttons all seem normally sized to me when I make a browser window narrow on my desktop.\",\n",
       " \"Yes, if you are on a touch screen, you need 'normally sized' hamburger menus. When using a mouse, a 16x16px hamburger is plenty big enough.\",\n",
       " \"I think you may have misunderstood my comment. I'm saying Iamseeing normally sized hamburger menus on desktop. You're using an example of 64x64, I'm saying I don't see that.Although 16x16 is a little on the small side even for desktop. The point isn't just to click it, but to have it be prominent enough toseeand notice as a primary action. It's about visibility, not touch area.For example, on the SquareSpace homepage (an example someone else brought up) it's 30x18. That seems like a nice size to me. It's two pixels taller than the 16 you suggest, but the extra width helps make it a little more prominent. Especially since the width isn't taking away from anything else.\",\n",
       " 'It is 44x44 on my computer. Absolutely massive.https://imgur.com/a/dL1Se2v',\n",
       " 'It can\\'t be 44x44, it\\'s not even square.I can\\'t tell what units you\\'re measuring in, are you measuring hardware pixels on a hi-DPI screen? We\\'re talking aboutlogicalpixels which is the only thing that makes sense to measure in and compare.But comparing it with e.g. the refresh button on your browser, it\\'s merely 17% taller than that, in your screenshot. So I literally don\\'t know what \"absolutely massive\" you\\'re talking about.It seems perfectly fine to me. Maybe I\\'d make it a little narrower, but they probably wanted to balance the logo in the top left corner in terms of visual weight, so it makes sense.',\n",
       " 'The button is 44x44.  The SVG is 30x18',\n",
       " \"If that's the clickable area, is someone complainingthat'stoo large?You've been able to select radio buttons by clicking on their text for decades now. On desktop. Often literally hundred of pixels wide.Generous margins for clickable elements seems like a feature, not a problem. As long as they don't interfere with anything else (which they don't, here).\",\n",
       " 'The folder on your desktop is roughly the same size.',\n",
       " 'I know the official line is that \"media types have proven insufficient as a way of discriminating between devices with different styling needs.\" But as far as I can tell most people really do just want to know if the visitor is viewing on a monitor or a phone. Trying to back that out through media features like viewport resolution and pointer types has been a big mess. I don\\'t think the plan to replace media types with media features is wrong, but so far we haven\\'t been given the right features to do what we want.',\n",
       " 'When I visit my bank, with my browser taking up half my 1080p desktop display, it tells me to use the app instead.',\n",
       " 'This is an interesting observation. Do you have some examples of this?',\n",
       " '> Do you have some examples of this?Sorry if it sounds rude, but have you used the web on the desktop in the past 10 years? Anything under 1000px-wide windows and sometimes 1200px-wide ones gets you the “mobile menu” on most websites. It’s a consequence of Bootstrap and other fixed-breakpoint frameworks. Overflow menus like what you see on GitHub repositories are the minority.',\n",
       " 'Screenshots:https://cloudflare-ipfs.com/ipfs/QmUL69cYwCs2sWV7eHqtt14BEcn...',\n",
       " \"react.devAnd for an example that does it better, legacy.reactjs.org :)When I saw it I wondered how they managed to drop the ball so hard and how much they paid for it. All they needed is to expand and slightly restructure the docs, but apparently someone sold them a complete redesign that just made the whole docs way less usable (a11y aside, can't speak for that).\",\n",
       " \"It doesn't work like that. Web browsers do not count actual pixels when rendering. They adjust high density pixels to the equivalent real life size of low density pixels.\",\n",
       " \"The OP is talking about things like media queries that only look at screen width and imply other things like input method from that.IIRC SquareSpace does exactly what they're saying: on desktop sites will have a horizontal list of links but on mobile it's a hamburger icon that takes over the entire viewport when clicked. Functionality exists to target pointer type and things like that in media queries, it's just very rarely used.\",\n",
       " \"Ohhh, I had no idea! Thank you.https://developer.mozilla.org/en-US/docs/Web/CSS/@media/poin...coarse - The primary input mechanism includes a pointing device of limited accuracy\\n    such as a finger on a touchscreen.\\n\\n    fine - The primary input mechanism includes an accurate pointing device, such as a mouse.This solves everything! What Ireallywant is having more padding on mobile, that's it. I prefer things to be compact otherwise, and it seemed hard to square that circle... with the pointer media query it's so trivial.Gotta love how every time you don't watch CSS like a hawk, it spawns 500 new features. Thanks again.\"]"
      ]
     },
     "execution_count": 19,
     "metadata": {},
     "output_type": "execute_result"
    }
   ],
   "source": [
    "df.comments[2]"
   ]
  },
  {
   "cell_type": "code",
   "execution_count": 13,
   "id": "3d0cdbd8",
   "metadata": {},
   "outputs": [
    {
     "data": {
      "text/plain": [
       "0     https://news.ycombinator.com/item?id=37205731\n",
       "1     https://news.ycombinator.com/item?id=37202732\n",
       "2     https://news.ycombinator.com/item?id=37208211\n",
       "3     https://news.ycombinator.com/item?id=37206061\n",
       "4     https://news.ycombinator.com/item?id=37206353\n",
       "                          ...                      \n",
       "73    https://news.ycombinator.com/item?id=37200284\n",
       "74    https://news.ycombinator.com/item?id=37201007\n",
       "75    https://news.ycombinator.com/item?id=37203065\n",
       "76    https://news.ycombinator.com/item?id=37203086\n",
       "77    https://news.ycombinator.com/item?id=37203196\n",
       "Name: detail_url, Length: 78, dtype: object"
      ]
     },
     "execution_count": 13,
     "metadata": {},
     "output_type": "execute_result"
    }
   ],
   "source": [
    "df.detail_url"
   ]
  },
  {
   "cell_type": "code",
   "execution_count": 17,
   "id": "2ce25657",
   "metadata": {},
   "outputs": [
    {
     "data": {
      "text/plain": [
       "136"
      ]
     },
     "execution_count": 17,
     "metadata": {},
     "output_type": "execute_result"
    }
   ],
   "source": [
    "len(df.comments[0])"
   ]
  },
  {
   "cell_type": "code",
   "execution_count": 21,
   "id": "719f07b6",
   "metadata": {},
   "outputs": [],
   "source": [
    "sample = df.sample(3)"
   ]
  },
  {
   "cell_type": "code",
   "execution_count": 33,
   "id": "b04f646a",
   "metadata": {},
   "outputs": [
    {
     "data": {
      "text/plain": [
       "url                   https://github.com/openchatai/OpenCopilot\n",
       "title         OpenCopilot – AI Copilot (sidekick) for your o...\n",
       "ct                                          2023-08-21T01:00:00\n",
       "detail_url        https://news.ycombinator.com/item?id=37203196\n",
       "points                                                       52\n",
       "comments      [I don't think this licensehttps://github.com/...\n",
       "Name: 77, dtype: object"
      ]
     },
     "execution_count": 33,
     "metadata": {},
     "output_type": "execute_result"
    }
   ],
   "source": [
    "sample.iloc[0]"
   ]
  },
  {
   "cell_type": "code",
   "execution_count": 34,
   "id": "a8184daf",
   "metadata": {},
   "outputs": [
    {
     "data": {
      "text/plain": [
       "['I don\\'t think this licensehttps://github.com/openchatai/OpenCopilot/blob/main/LICENSEis compatible with the tagline \"Open source AI sidekick for everyone\".\"The Licensee may not distribute, sublicense, sell, or resell the Software, in whole or in part, without explicit written permission from the Licensor\"I have no problem at all with non-open-source licenses, provided they make it clear that they\\'re not open source licenses.[ UPDATE: I noticed that the README doesn\\'t claim to be open source - but thehttps://opencopilot.so/website and the description field at the top right of the GitHub repository does. ]Is that a known license? I couldn\\'t tell where it came from - it ends with \"please contact [Your Contact Information]\" which suggests that it\\'s a template from somewhere. But which template?I tried using GitHub Code Search on strings from it but couldn\\'t find any obvious duplicates.This team\\'s other project uses an open source MIT license:https://github.com/openchatai/OpenChat',\n",
       " 'The READMD claims it is open source, if you at the banner. It also claims it is MIT licensed, but as you pointed out, it is a modified source-available license not MIT.This is a grift.',\n",
       " 'The OpenCopilot License looks like a modified version of the MIT License, since the all-caps portion is taken verbatim from the original license:> THE SOFTWARE IS PROVIDED “AS IS”, WITHOUT WARRANTY OF ANY KIND, EXPRESS OR IMPLIED, INCLUDING BUT NOT LIMITED TO THE WARRANTIES OF MERCHANTABILITY, FITNESS FOR A PARTICULAR PURPOSE AND NONINFRINGEMENT. IN NO EVENT SHALL THE AUTHORS OR COPYRIGHT HOLDERS BE LIABLE FOR ANY CLAIM, DAMAGES OR OTHER LIABILITY, WHETHER IN AN ACTION OF CONTRACT, TORT OR OTHERWISE, ARISING FROM, OUT OF OR IN CONNECTION WITH THE SOFTWARE OR THE USE OR OTHER DEALINGS IN THE SOFTWARE.https://opensource.org/license/mit/OpenCopilot is a source-available project but it is not open source. The OpenCopilot License (specifically, the line \"The Licensee may not distribute, sublicense, sell, or resell the Software, in whole or in part, without explicit written permission from the Licensor\") violates criterion 1 of the Open Source Definition:> 1. Free Redistribution> The license shall not restrict any party from selling or giving away the software as a component of an aggregate software distribution containing programs from several different sources. The license shall not require a royalty or other fee for such sale.https://opensource.org/osd/This recent trend of openwashing (https://en.wikipedia.org/wiki/Openwashing) is unwelcome because it misleads FOSS developers and users who are looking for software that can be used, examined, modified, and redistributed without limitation.',\n",
       " 'This is not open source.I am surprised by how many HN links I am getting nowadays that float open source yet clearly have licenses that are source available or even less free.It is almost like open source is the new techbro buzzword.',\n",
       " 'I wonder how much complicated UI will be replaced by LLM magic in the future',\n",
       " 'As long as someone makes bookmarks for llms so I can toss in a catchphrase to skip to the exact prompt I want, then I’m in. And also figures out discoversbility - ie opening a menu/submenu to see what’s possible',\n",
       " 'so... a UI?',\n",
       " \"When are we going to get an Alexa interface so it's less useless on general questions?\",\n",
       " 'Use open source and stop waiting for corporations to roll things out. They’ll only do it if they can milk you for profit',\n",
       " 'video demo looks awesome, what tool do you use to make it?',\n",
       " 'Has anyone gotten this working? I just get 500s from the bot.',\n",
       " 'Probably the backend was written by an ai.']"
      ]
     },
     "execution_count": 34,
     "metadata": {},
     "output_type": "execute_result"
    }
   ],
   "source": [
    "sample.iloc[0].comments"
   ]
  },
  {
   "cell_type": "code",
   "execution_count": 35,
   "id": "86d9adfb",
   "metadata": {},
   "outputs": [
    {
     "data": {
      "text/plain": [
       "url           https://twitter.com/cperciva/status/1693127769...\n",
       "title         FreeBSD replaces bubblesort with mergesort on ...\n",
       "ct                                          2023-08-21T13:00:00\n",
       "detail_url        https://news.ycombinator.com/item?id=37205053\n",
       "points                                                      245\n",
       "comments      [For people (like me) who are wondering why a ...\n",
       "Name: 40, dtype: object"
      ]
     },
     "execution_count": 35,
     "metadata": {},
     "output_type": "execute_result"
    }
   ],
   "source": [
    "sample.iloc[1]"
   ]
  },
  {
   "cell_type": "code",
   "execution_count": 36,
   "id": "d3257a37",
   "metadata": {},
   "outputs": [
    {
     "data": {
      "text/plain": [
       "[\"For people (like me) who are wondering why a kernel needs to boot in under 28ms: It's for virtual machines that get launched on-demand in services like AWS Lambda.https://www.daemonology.net/blog/2022-10-18-FreeBSD-Firecrac...\",\n",
       " 'There was an article about a Linux embedded system handling a car back-camera that had to boot within 3-5 seconds or something along those lines.',\n",
       " 'Very OT, but I concur. I need a DSP for my car audio system. I considered a rpi3 with a DAC attachment.I tried the raspbian OS with some moderate overclocking and removing unneeded startup processes. Couldn’t get it under 25 seconds for boot. Kind of a deal breaker (remote start unit could help, but…)Apparently somebody can start the rpi3 in <3 seconds. I’ll believe it when I try their image myself. Their setup disables USB and networking (maybe audio too who knows) which is a giant pain for configuring my system.Maybe I’ll try again with an RPi 4 and usb3 nvme. or maybe I’ll just pay hundreds of dollars for a dedicated DSP unit.In case anyone cares, my main use case is parametric EQ for phon adjusted low bass frequencies. 90dB 20Hz sounds as loud as 70dB 50Hz (give or take) and subwoofers are generally quieter at lower frequencies. Hence, audio processing unit to cut as you go higher than your lowest decently loud frequency.The lowest cost option for this is about $230USD plus some electrical components (miniDSP 2x4HD). I figure the rpi would cost around $100 including the DAC unit, open source audio software, just need some power source to link the battery to the rpi power cord.Edit: I don’t want to spam thanks comments for helpful replies, so I’ll just say it here (possibly in advance): thanks!!!',\n",
       " \"If you make your own buildroot image, you can get VERY quick boot times - here's a random vid I found [1] with 3.5 seconds on a pi zero w (which is considerably less powerful than a Pi3.I've worked with similarly underpowered boards (licheepi zero, only has 64mb ram and uses the cpu from a dashcam!) and those will still boot and start an SDL app in under five seconds.If you can identify the bare minimum that you need for your EQ solution, you can probably get similar boot times.[1]:https://www.youtube.com/watch?v=ZehLyumyMvE\",\n",
       " 'It doesn‘t always have to be a RPi, sometimes there is dedicated hardware for that use case that is also kinda cheap.Check this thing out, it‘s a programmable audio DSP:https://www.thomannmusic.ch/the_t.racks_dsp_4x4_mini.htm',\n",
       " 'You could use a ADAU1701 DSP board (cheaper and shittier minidsp) or do it directly on a modern/fast microcontroller, e.g. ESP32. I used an ESP32 to adjust frequency response of a small diy loudspeaker (and added Bluetooth).',\n",
       " 'My 2015 Model S would lose badly in a quarter mile against a good cyclist if you included cold boot time. Worst bank robbery car ever.',\n",
       " \"Wild that people have accepted a 5000ms delay between starting their car and seeing behind them.I suppose I'm more sensitive to downtime than most - I recently (unsuccessfully) tried to add a ton of capacitance into my head unit's power supply and acc-signal lines to keep it from turning off for a few seconds when starting the engine.\",\n",
       " \"Up until a couple years ago my car didn't even have a camera. We just looked out the window, which is still an option.\",\n",
       " \"It is a much worse option than it used to be. Visibility out of the rear windows from the driver's seat has gotten worse over the years.\",\n",
       " 'So industrial design with poor usability gets complemented by bad electronic devices. Progress?',\n",
       " 'A large majority of cars in traffic don’t have a back camera. Either because they’re old or because they’re cheap (I don’t think a back camera is usually a standard feature at least where I’m from…)',\n",
       " 'I rather have no car at all than go back to that.',\n",
       " \"That would be better for the planet anyway.Disclaimer: Not a joke. I've never owned a car.\",\n",
       " 'It’s probably less than 5 seconds in perceived terms. Eg the car gets power before the engine turns over, and you then need to select reverse after the engine is running. And you’d need to check your blind spots before checking the camera too. So by the time the driver is ready to check the camera, it might feel like a much smaller delay or even no delay at all.The delay that I notice the most is the time it takes to connect to my phone via Bluetooth (usually so I can play music from it). I’m often already pulling out of my parking space before it connects.',\n",
       " 'probably because it started off as a 1000ms delay, which they begrudgingly accepted. Then it started to slow to 1100ms....',\n",
       " 'Yes I remember being surprised that Linux containers were used for that purpose.',\n",
       " 'To sum up what I learned from the comments:Is FreeBSD stupid for having used bubblesort to begin with? NO. It worked well for decades before surfacing as a problem in this extreme and unanticipated use case.Is optimizing this a waste of time? NO. The use case revolves around super frequent bootups to power lambda and for this type of thing every ms matters.',\n",
       " 'As is often said, O(n^2) (or even 3) is fine until it stops being fine.',\n",
       " 'Yeah and it almost always stops being fine. The problem with an O(N^2) solution is that you rarely put in an assert that N < 100 or something like that to guard your assumption that big N \"doesn\\'t happen\". Because after all it\\'s better that the process eventually completes than that the process crashes. And if you don\\'t dare to put that in, you perhaps shouldn\\'t use O(N^2).N^2 or N^3 is fine for things that are fixed size and very unlikely to stop being fixed size, or at least unlikely to grow a lot. But any time you think \"oh it\\'s just a few files\" when there is nothing to stop it from being 1000 files in ten years, or at one rare user: don\\'t use an O(N^2) solution.',\n",
       " \"As two persons have already asked:> When the FreeBSD kernel boots in Firecracker (1 CPU, 128 MB RAM), it now spends 7% of its time running a bubblesort on its SYSINITs.> O(N^2) can bite hard when you're sorting over a thousand items.  Time to replace the bubblesort with something faster.\",\n",
       " \"Small increments add up. Sure, its not 100x faster booting. its 100x less spent in one fragment of overall boot time. Do another 20, and you've made a LOT of difference.\",\n",
       " 'Yep. When work started working on boot time, FreeBSD took 30 seconds to boot. It’s now down under 10 seconds. Many have contributed, but Colin’s done a lot of it [0].[0]:https://wiki.freebsd.org/BootTime#Past_Performance_Improveme...',\n",
       " 'This is known as the hotspot or bottleneck model of optimization. It has its flaws:https://lemire.me/blog/2023/04/27/hotspot-performance-engine...',\n",
       " 'Nice article. I didn\\'t see it say \"don\\'t do it\" I saw it say \"try not to have to\"',\n",
       " 'That article is 100% right, but gmm said \"do another 20\" - that\\'s not really what hotspot people expect to do. They think there\\'s one or two hotspots that they need to optimise and then they\\'ll get a 10x speedup.You can definitely do 20-100 small optimisations and get a 2-3x speedup.The best example I\\'ve seen of that is Nicholas Nethercote\\'s work on speeding up the Rust compiler. A ton of tiny speed improvements that add up to 2x or 3x speed improvements overall.I\\'ve done similar work on optimising a compiler. You\\'re never going to get 10x without architectural changes but you can get 3x with a lot of work.Of course the \"we\\'ll just optimise the hotspots\" people have written their code so badly they need at least 10x.',\n",
       " 'Related discussion: \"FreeBSD spends 7% of its boot time running a bubblesort on its SYSINITs\"https://news.ycombinator.com/item?id=36002574(381 points | 3 months ago | 358 comments)',\n",
       " 'non xitter mirror:https://nitter.net/cperciva/status/1693127769901969772',\n",
       " 'Why not sort this in a precompile step and not sort the static list every boot?',\n",
       " \"Two reasons: First, it's not worth screwing with the linker to save 20 microseconds.  Second, you need to merge lists anyway because kernel modules.\",\n",
       " \"> First, it's not worth screwing with the linker to save 20 microseconds....yet. Certainly not when boot is 28ms; might be worth it when boot is 1ms.> Second, you need to merge lists anyway because kernel modules.Does FreeBSD have the equivalent of a non-modular kernel build, for kernels where you know every piece of hardware it'll ever talk to?\",\n",
       " \"If I get the entire kernel boot down to 1 ms I might take another look at this. ;-)You absolutely can compile everything you need into the kernel -- in fact for Firecracker you have to since you don't have a boot loader handing you multiple kernel modules.  But I needed to write the code to support more than just Firecracker.\",\n",
       " \"> If I get the entire kernel boot down to 1 ms I might take another look at this. ;-)I look forward to the upcoming boot-time competitions between FreeBSD and Linux. :)> You absolutely can compile everything you need into the kernel -- in fact for Firecracker you have to since you don't have a boot loader handing you multiple kernel modules. But I needed to write the code to support more than just Firecracker.Absolutely. But it seems reasonable to have, for instance, link-time sorting support thatonlyworks when building a kernel that doesn't support kernel modules.\",\n",
       " 'Maybe.  The tradeoff is that having two different ways of doing something makes it more likely that one will break without anyone noticing.',\n",
       " 'Valid. Especially in early boot.Another possibility:alwaysuse link-time sorting for the kernel, and for individual modules, and then do runtime merging if and only if you have kernel modules. That way, the link-time sorting path isalwaystested, and the runtime merging is tested anytime you have kernel modules (which sounds like the more common case).(All of this, though, is gated under \"is it worth saving the microseconds yet\".)',\n",
       " 'Why not boot as a compilation step, and save a memory instance to be loaded on actual boots.',\n",
       " 'No good reason.  It would just require something fiddly with the linker / build process.  This is good enough.',\n",
       " 'Does anyone know why they used bubblesort in the first place? It is known for its bad performance, so what other factors came into play? Number of ops, maybe?',\n",
       " \"According to the Twitter thread linked, at the beginning there were only 30 items, so using bubblesort didn't matter. The number of items has since grown to a thousand.\",\n",
       " 'For 30 items bubblesort might very well have been faster than mergesort.',\n",
       " 'For everyone challenging Colin on this, by all means, but do remember that it’s Colin.If anyone misses less I can’t think of them.',\n",
       " \"Why do you boot the system anyway? Wouldn't it be faster dump the memory of an already booted system and just read that in?\",\n",
       " 'Would it?Read in small amount of code (or execute directly from flash) & use that to initialize hardware, might just be faster than read memory dump of already-initialized system.Also the \"read memory dump\" method would include code & data structures which were used on a previous run, but may not be needed for the next run (or only much later). And not re-initialize hardware which may have gone flaky, or changed configuration in the meanwhile (like USB port with different device plugged vs. state that memory dump reflects).Rebooting is just an all around cleaner method to return system to a known state. But of course it all depends on hardware specifics & what type(s) of initialization is done.',\n",
       " 'That paradigm used to be a thing for things like home-computer games-- the game might take 5 minutes for an anemic Commodore 1541 drive to load, so you\\'d use a \"freeze\" cartridge that snapshotted RAM after the load finished and produced something smaller; I suspect a major side appeal was that you bypassed copy-protection that involved the loading process.On a more complex system, with external devices active at all times, this gets a lot harder.  It would be easy to take a snapshot at the \"wrong\" time when something is deadlocked on a timer or external device that won\\'t be in an appropriate state at the next power on.  A \"boot\" process ensures everything attached has been roused from their slumber and get them back to a known state.OTOH, I could imagine if you were designing to a specific enough use case, you could design a system that relied on a minimal support devices and a CPU that bit-banged almost everything, so you knew if you were in the idle loop, everything was safe to snapshot.',\n",
       " \"Okay, but what exactly is 100 times faster when measured? Simply the sorting algorithm? If it not be a bottleneck to something then it doesn't matter much.I assume the entire performance of FreeBSD hasn't improved a hundredfold by this small change.\",\n",
       " \"They explain this further on in the Twitter thread. It's the portion of time spent sorting the array of system calls during boot. This didn't used to matter when it took longer than a second to boot up, but now that the boot times are in the sub-second range, the amount of time spent sorting the array of system calls ended up taking up a notable chunk of the time spent booting.Might not matter for the things you care about, but some people certainly do care about boot performance.\",\n",
       " 'The author mentions in the thread that the boot time they measured on the device was 28 ms and 7% of it (2 ms) was spent sorting.',\n",
       " 'On the sorting of SYSINIT (not sysint as the title says) calls during bootup. The actual speedup is only a couple milliseconds but that means the old method was in the order of hundreds of milliseconds. Which is indeed a lot for a sorting operation.',\n",
       " '100x faster on 7% of Firecracker bootSo ~5ms speedup',\n",
       " 'Boot time was reduced by 2ms, from 28ms to 26ms. Hardly 100x speed.',\n",
       " 'Very naiive question... But why can\\'t you \"just\" memcopy and exec an image of an already booted system?',\n",
       " \"You sort of can, but drivers have to be in sync with the (emulated) devices they're controlling. The fastest way to go about this would be to snapshot an already booted virtual system. It could be as simple as instructing the restored snapshot to reseed its RNG and (re-)attach to the network, but you'll probably in into a few more assumption broken by cloning a multiple VMs from the same snapshot. If pre-booting and suspending/resuming each individual VM is good enough it could look similar to a pre-forking HTTP server like old Apache versions.\",\n",
       " 'Yeah, for real hardware it is important to be flexible.But these virtual machines can all be exactly the same, except for the network MAC and IP.It could even be possible to compile executables that bypass the need for a kernel, just have some libraries with the required stuff, and boot to the program, MS-DOS style.',\n",
       " '>could even be possible to compile executables that bypass the need for a kernel, just have some libraries with the required stuff, and boot to the programOr consider:https://github.com/uniqernel/awesome-unikernels',\n",
       " \"Simplistic answer is because hardware and firmware environment gets configured during boot, even for virtual machines.Some virtual machine environments do have facilities to snapshot the entire state of a machine and resume it (potentially on another machine), but if you look at what is involved with snapshot metadata it's more than just the state of memory, you have CPU and device state as well.\",\n",
       " \"Wouldn't hibernating the machine and then copying the hibernation data to another machine do the trick? Sure it wouldn't be as instant, but it would skip most of the boot configuration.\",\n",
       " 'The usual culprit is CPU feature flags on different CPU generations.',\n",
       " \"Conceptually at a high level yes (if the hardware was ~identical). Resuming from hibernation on the same machine resuming from hibernation is basically loading an image into memory and executing it that OP asked about too. But in either the resume or hypothetical hypernation migration cases, you can't just start running where the previous boot left off, you have to go through hibernation resume functions which basically do the same thing as boot in terms of configuring hardware.On virtual machines there probably isn't nearly so much real hardware to set up, and hypervisors can optimize virtual device setup. The machine image could also be provided via COW snapshot of memory. So I don't know, possibly at some corners it could be faster to do a resume type operation than a full boot. I haven't played with hypervisor guest boot at these kinds of speeds before.\",\n",
       " \"Possibly a bit fragile if there is any situation where one day the other machine isn't entirely identical? (just hand-waving here)\",\n",
       " 'There’s things like encryption keys and tokens that need to be unique so it’s not easy, if you do it like that you would run into new, difficult to predict vulnerabilities.So it’s difficult and dangerous for not a lot of gain. Perhaps an easier approach would be to boot a few spare systems in advance and hibernate them so they can be booted quickly.',\n",
       " 'i feel like maybe 3.5 seconds is not VERY quick compared to 28 milliseconds?',\n",
       " \"The use case is different so the comparison doesn't really matter.\",\n",
       " '3.5 seconds might be tolerable for your car radio i guess',\n",
       " 'Search ebay etc... for Texas Instruments DSP evaluation boards.',\n",
       " \"Can't you just run on bare metal on rpi? Also a resistor, a capacitor and a realay would work  to filter out the extra bass.\",\n",
       " \">  So industrial design with poor usability gets complemented by bad electronic devices. Progress?https://en.wiktionary.org/wiki/Chesterton%27s_fenceIt's for safety in case of roll-over and for better aerodynamics due to increased emissions standards and in the case of EVs, increasing the range.\",\n",
       " \"what are they getting for the poor visibility tradeoff compensated by electronics? I have no idea. If it's safety, then yes, that would be progress.\",\n",
       " 'Safety, and aerodynamics (i.e. energy efficiency).Dismissing it as \"design with poor usability\" is very facile. It\\'s trade-offs between different goals,  all the way down.',\n",
       " 'Or it’s just cheaper to build',\n",
       " \"Americans don't care about the prices of their cars and neither do American safety regulations.\",\n",
       " \"This is correct. It's easy credit all the way down. Cheap cars (Chevy Spark, Mitsubishi Mirage, Kia Rio) are basically all slowly being discontinued in NA, meanwhile luxury pickups sell like hot cakes.\",\n",
       " 'Cost is yet another trade-off.Those pillars that hold the roof up are safer if they\\'re sturdy, but sturdy means wider and that obstructs the driver\\'s field of vision a bit, and weighs more.  \"strong and slender\" is possible, but it costs more. It all inter-relates.(strong, narrow, cheap), pick any 2.There does come a point where you start to appreciate what Polestar is doing on one of next years models (the Polestar 4): give up on the idea and change direction; no rear window at all, just a camera.',\n",
       " \"The failure mode is pretty horrible though.And I'm not only thinking about damaged camera. Humidity, weather etc. often makes these cameras completely useless.You'd have to have wipers for your camera-lens and probably heating or something as well to even approach the utility of a window - short term.Because none of that is ever going to fail, and it isn't cheap either.\",\n",
       " 'Trucks drive just fine with no rear view at all other than side mirrors, so cars can do that as well.',\n",
       " \"On the highway, sure. But generally whenever I see a truck back up in the city, there will be someone outside directing the driver.You don't see lots of truck parking in parallel unassisted on streets with pedestrians and cyclists, but I do this all the time.\",\n",
       " \"Truck drivers are pros, though, while we're just annoying traffic jam fodder.\",\n",
       " 'Lens washdown is rather common now on vehicles.',\n",
       " \"I don't think that I said that the Polestar 4's lack of rear windows is a slam-dunk sure-fire hit. Rather just that we can appreciate the attempt to side-step the issues with rear-window visibility with a very different design.It is IMHO a bold move, which will attract fans and haters. Neither of us know for sure how it will play out; if the potential issues outweigh the rest. The implementation details clearly matter.  In a couple of years we will see if it's a genius innovation, a terrible misstep or somewhere in-between. Until the vehicle ships and is on the road for some time in some volume, we won't know for sure.\",\n",
       " \"While I agree I kind of think this should be nailed down before such a departure.After all, on a high-end vehicle a back-camera that hasn't sorted this is just a gimmick.Maybe they have, all my experiences indicate otherwise though I don't have much experience with new expensive cars.\",\n",
       " \"You don't see small kids right behind your car this way. I believe this was the main reason why rear-view cameras were made mandatory on new cars.\",\n",
       " 'Also, because the cars now are gigantic, compared with old cars.Even the Mini Cooper is huge now.',\n",
       " 'In the US a backup camera is now required by law',\n",
       " 'For new cars, I guess.In the EU, it’s similar.https://ec.europa.eu/info/law/better-regulation/have-your-sa...:All new vehicles sold from May 2022 must be fitted with advanced safety features, including:- monitors that detect when a driver has become drowsy or distracted- emergency stop signal to help prevent rear-end collisions- rear-view camera or parking sensors- alcohol interlock system to prevent drunk driving.These systems will help reduce serious accidents on Europe’s roads.',\n",
       " '> alcohol interlock system to prevent drunk driving.Wait, what? _All_ new vehicles need to have this? Or do they just need to be constructed such that one can be installed easily?',\n",
       " 'Looks like EU law, so considering the wording, probably every new car.Also, see:https://road-safety.transport.ec.europa.eu/statistics-and-an...Edit:The actual text:> Article 6 of Regulation (EU) 2019/2144 of the European Parliament and of the Council requires motor vehicles of categories M and N to be equipped with certain advanced vehicle systems, including driver drowsiness and attention warning systems. It lays down in its Annex II basic requirements for the type-approval of motor vehicles with regard to the driver drowsiness and attention warning systems.',\n",
       " 'It seems that the only part that got implemented out of that draft was drowsiness/inattention detection. At least that\\'s what I read from the document in \"Commission adoption\" section of that page.',\n",
       " 'I agree and in modern countries with proper transportation there is no reason to own a car.']"
      ]
     },
     "execution_count": 36,
     "metadata": {},
     "output_type": "execute_result"
    }
   ],
   "source": [
    "sample.iloc[1].comments"
   ]
  },
  {
   "cell_type": "code",
   "execution_count": 37,
   "id": "282a31b0",
   "metadata": {},
   "outputs": [
    {
     "data": {
      "text/plain": [
       "url                        https://www.susanrigetti.com/physics\n",
       "title                       So you want to learn physics (2021)\n",
       "ct                                          2023-08-21T13:00:00\n",
       "detail_url        https://news.ycombinator.com/item?id=37200615\n",
       "points                                                      444\n",
       "comments      [This has the same omission that my undergrad ...\n",
       "Name: 31, dtype: object"
      ]
     },
     "execution_count": 37,
     "metadata": {},
     "output_type": "execute_result"
    }
   ],
   "source": [
    "sample.iloc[2]"
   ]
  },
  {
   "cell_type": "code",
   "execution_count": 38,
   "id": "dc9022d7",
   "metadata": {},
   "outputs": [
    {
     "data": {
      "text/plain": [
       "['This has the same omission that my undergrad program had: continuum mechanics.  Even just the very basics (pressure, velocity, etc in a moving, non-equilibrium system) and translating between the terminology used by different science and engineering fields (static pressure, total pressure, velocity pressure, stagnation pressure, hydrostatic pressure, dynamic pressure, plain old pressure, head, oh my!) is very useful.Hydraulics areeverywhere.  Ever used a sink? Flushed a toilet?  Contemplated an air filter? Felt both sides of a small fan? Wondered how, exactly, a utility pump causes water to go in the inlet and out the outlet, and tried to read the manufacturer’s spec?  Contemplated that the ripples when you throw a rock in an actual pond really don’t resemble the average “look I made water in WebGL” animation very much?And more fancily, and very much in “Physics”, cosmological models usually model the universe as being full of a spatially varyingcontinuous fluid.  Stars are plasma or weirder things, and those are fancy fluids.Yet, for some reason, the basics are missing from “Physics”.  You can sometimes find them in mechanical engineering departments, and Feynman covers it a bit in his lectures.',\n",
       " \"You might be interested in Kip Thorne (ofGravitationfame) and Roger Blandford's bookModern Classical Physics, which is designed to cover the elements of non-quantum physics that are generally ignored in the first year PhD curriculum. Part headers: statistical physics; optics; elasticity; fluid dynamics; plasma physics; general relativity\",\n",
       " 'Fluid dynamics was the most awful course I ever took. I still get nightmares of me failing my graduation because of Navier-Stocks equation',\n",
       " 'I second the recommendation of this book -- it really is quite excellent and covers at an advanced level most of what is commonly left out of a modern physics curriculum (though it is quite imposing in its size/weight).',\n",
       " 'Idiot who transferred from physics to computer science after year 1 here, so please make allowances. But all of those phenomena are emergent. Shouldn’t physics focus much more on the underlying micro states and micro processes than the emergent phenomena?Obviously there needs to be a transition, but at some point you go from physics to engineering. I suppose it depends what specialty in physics you go into. Nobody can specialise in everything.',\n",
       " \"> Shouldn’t physics focus much more on the underlying micro states and micro processes than the emergent phenomena? Obviously there needs to be a transition, but at some point you go from physics to engineering.1. The boundaries between disciplines are where they are in part by historical accident, and in part because that's what the people working in them find useful - there is no actual fact of the matter.2. We don't actually know the underlying microprocesses of anything. Effective theories are all we have, and there's no fundamental difference between an effective theory for the vacuum (if it is a vacuum) and one for, say, the bulk of a semiconductor.\",\n",
       " '>  there is no actual fact of the matter.This is true of all categories, so not a helpful comment. I suspect someone has a good enough definition.',\n",
       " \"As GP said, continuum mechanics is often used for physics research. While not the Truth, the models can often be accurate. My own research involving transport in the quantum domain utilized some models from continuum mechanics.(I didn't introduce it - it was already being used).\",\n",
       " 'Reminds me of a student sketch from my days in nerd school, parodying Star Trek. A student dressed as one of the physics professors demonstrated that FTL travel was impossible, causing the Enterprise’s warp drives to stop functioning. It was fixed when Scotty said, “Wait, I’m an engineer: I don’tneedto understand physics!”',\n",
       " 'You could say that about a lot of topics. Heck you could say that chemistry is just an emergent phenomenon of physics.The benefit of taking such a class or reading such a textbook is that these things have been studied extensively, we have good models for them, and it is useful to know because people are still doing fundamental research on it to this day or working on phenomena that are closely related.',\n",
       " 'Physics: research, theorizeEngineering: practical implementationThat’s how it goes in my brain. It’s physics until we can build it reliably, then it’s engineering.',\n",
       " 'You\\'ve described the core of a usual Chemical Engineering curriculum. A school with a good engineering program would definitely offer these classes, maybe under a name like \"transport phenomena\" (in my experience).',\n",
       " 'The undergraduate Physics program is, in my opinion, heavily influenced by the working physicists in the field. Lots of physicist who work in fundamental physics is either particle physicists or work with models that are in particles. Those are the ones who teach physics in undergrad.',\n",
       " 'This is simply not true, condensed matter physics makes up the largest sub-field of physics (about half by some estimates).I think the more relevant aspect is that to reach the frontier in a wide array of fields you a solid grounding quantum physics (and several other \"new\" -- i.e. within the last century or so -- topics) that have displaced more \"old-fashioned\" topics like continuum mechanics.',\n",
       " 'Do you have text/other sources suggestions for this? I agree with you, would like to learn more.',\n",
       " \"For the mathematically inclined, the best I've seen is An Introduction to Continuum Mechanics by Morton Gurtin from 1981.  At one point, it could be purchased from Google books directly as a pdf.\",\n",
       " 'The best book I came across is thishttps://www.amazon.com/Continuum-Mechanics-Foundations-Appli...It has a slightly solid mechanics bent, but the fundamentals are the same for fluids and solids (conservation laws, tensor formulation)',\n",
       " 'Halliday & ResnickFundamentals of Physicsis what we used in AP as well as in freshman year at college. Covers most sections one needs to be familiar with to be physics literate (solid/fluid mechanics, waves, thermo, electromagnetism, optics, relativity).',\n",
       " 'Is that still in print? That was the physics book we used my freshman year, in 1974. It was a great book. I’m still sorry I sold it.',\n",
       " 'Still used in as an undergraduate in 2013',\n",
       " \"That was my first year text book in 1998. Sounds like it's still going strong!\",\n",
       " 'I don’t know much about continuum mechanics (unless you count stat mech but I wouldn’t), however Goldstein has a few chapters on the topic that might serve as an introduction',\n",
       " 'Hydraulics are everywhere. Ever used a sink? Flushed a toilet? Contemplated an air filter? Felt both sides of a small fan? Wondered how, exactly, a utility pump causes water to go in the inlet and out the outlet, and tried to read the manufacturer’s spec? Contemplated that the ripples when you throw a rock in an actual pond really don’t resemble the average “look I made water in WebGL” animation very much?if you can understand the PDEs of GR and QFT, you can apply it to this too',\n",
       " \"A point that's rightfully emphasized by the author:> Solving problems is the only way to understand physics. There's no way around it.This generalizes well to other fields. I don't want to discourage anybody from trying to educate themselves in a difficult field (be it physics or something else), but that's a very common and immediately visible problem with autodidacts. If you haven't worked through enough hard problems you lack the intuition that ties together theory.\",\n",
       " 'That’s a POV I’ve grown to adopt as I got older (like many, perhaps). I used to heavily privilege theory, believing that everything could (and maybe should) be derived from first principles.Now I place the concrete over everything else; theory is nice when it can illuminate why the practice works. Otherwise, it’s just words.The most frustrating is when I have friends who have derived their entire understanding of a subject I know as a practitioner (typically something tech/programming related) from watching YouTube videos/listening to podcasts.Because they’ve heard hours and hours from experts, they have a feeling of deep understanding. But talking to them about this topic is extremely frustrating because their knowledge clearly has never had to be applied to the real world, and is grounded in nothingness, so they misunderstand lots, but they feel like they know what they’re talking about as much as you do.',\n",
       " '> That’s a POV I’ve grown to adopt as I got older (like many, perhaps). I used to heavily privilege theory, believing that everything could (and maybe should) be derived from first principles.> Now I place the concrete over everything else; theory is nice when it can illuminate why the practice works. Otherwise, it’s just words.That mirrors the trajectory of all humankind, doesn’t it? From lofty Platonic ideals to nitty gritty empiricism and experimentation.',\n",
       " 'An odd hypothesis, I think. I don\\'t think our ancestors were any less practical than us. Probably a great deal more practical, in fact.You reference Plato, but you could easily phrase it in the other direction. \"From Roman engineering to Wittgenstein blithering on about meaning.\"',\n",
       " 'I only became reasonably proficient in physics when I took the summer off between undergrad and graduate school and spent three months, six days a week, ten hours a day, doing nothing but working through four years of undergraduate physics curriculum by solving problems from my textbooks.There is no substitute for solving problems.',\n",
       " \"Like another commenter, I'm curious what drove you to this.  Seems like clearly A Good Idea I Could Have Benefited From, but my attitude was always: I finished the class, whatever I need to learn through application, life will point me toward.  Yet I wish I had done something similar to what you did.  What gave you the impetus?\",\n",
       " \"> I finished the class, whatever I need to learn through application, life will point me toward.In math/physics, it often won't. Solving lots of problems serves two particular purposes: To really solidify the concepts in your mind so you won't forget, and ensuring you learn the techniques and not just the knowledge.For the former, you may find yourself in the position where you find yourself way over your head, and won't know where to start. You usually will not have a single gap, but many. You'll find yourself realizing you'll need to look up material from several textbooks to regain the knowledge you've lost. Once you begin that process, you'll pick up one of your old textbooks and while the physics knowledge may be absorbed, you'll realize you've forgotten much of the math needed to solve such problems. In the unlikely event you'll retain enough to follow the textbook, it is very unlikely you'll know the techniques well enough to solve the real world problem.And your colleagues will. You'll be alone, and you'll drop out of that group. With physics/math, there often are hard boundaries in these groups. Those who meet the bar are in. Those who don't drop out, because it really sucks being the only person in the group who is struggling with what everyone else considers as basic.SW engineering has a much more gradual change in skills amongst people, and usually the problems most people work on are fairly learnable in a short amount of time.\",\n",
       " 'Plus, at various times, I’ve had to revisit things I learned years ago and ended up understanding it much better because I could connect it to a swath of things I hadn’t learned the first time I saw the material.Math and its applications are a contact sport. You don’t truly appreciate it until you try to use it yourself.',\n",
       " 'We were required (by the state I believe) to take a comprehensive test assessing our competency at physics. I struggled with test and was disheartened that four years of strenuous effort would be all for naught. I knew I needed to do something to shore up my understanding of physics if I was going to retain the knowledge decades onwards. The other reason was a simple love for the beauty and underlying simplicity of the subject.',\n",
       " 'That is some dedication, well done. Interesting to know more about your career and where this lead to if you continued down the physics path.',\n",
       " 'I went on to earn a doctorate in biophysics and then began a career developing instrumentation for biomedical research. While I no longer work directly in the field of physics, the physical intuition and reasoning abilities honed by a physics education has allowed me to successfully lead teams consisting of electrical and mechanical engineers, while serving as the liaison to biologists and doctors. I regard a physics education as a modern-day ‘liberal arts’ technical degree.',\n",
       " '> I regard a physics education as a modern-day ‘liberal arts’ technical degree.Some anecdotal evidence for this:https://www.dwarkeshpatel.com/p/dario-amodei#details> Dario Amodei: We have generally found that if we hire someone who is a Physics PhD or something, that they can learn ML and contribute just very quickly in most cases.',\n",
       " 'Totally 100% with this. When younger I thought I could read the material and say \"Oh, okay that makes sense I understand this.\" Only to fail miserably when on a test or somewhere I had to apply what I \"knew\" and realizing I didn\\'t actually know it. I lean strongly toward autodidacticism and learned that if I could solve problems with the techniquethenI knew it.',\n",
       " 'My calculus 1 professor gave the advice that the best way to study is to do every problem in the book, then go and get another book and do every problem in that book, and keep doing that until you look at a problem and know exactly every step to do immediately.',\n",
       " 'There’s certainly fields of math where I’ve seen a twist on the advice. Differential geometry, for example, is a big field with a lot of notation. Different textbooks end up using very different notations and covering non-overlapping sections of the field. Therefore, the advice I got was to not just do the problems, but translate the definitions and theorems into a unified notation that you feel is natural.',\n",
       " \"That's how I learned probability theory. I studied from one book and solved all problems, then moved to the next, until it became second nature. Probability theory is one of the topics that you will never learn by only reading, it is necessary to develop the necessary intuition.\",\n",
       " 'Time consuming but I can see this being really really effective.',\n",
       " '>> Solving problems is the only way to understand physics. There\\'s no way around it.The reason is that you think you understand what you read, but as Richard Feynman said:> The first principle is that you must not fool yourself, and you are the easiest person to fool.You think you understand 90% of what you read, but in reality it\\'s probably only 20-30%. By doing the exercises, at the very least you\\'ll know that you don\\'t know that much. And if you then reread the materials a few pages before, you\\'ll realize that you have skimmed (or worse, skipped) some parts because you mistakenly thought you already understood it.Another tips from my personal experience: When you\\'re reading a textbook, keep asking in your mind questions with the types of \"what if\" and \"how about,\" which are sometimes not yet explained in the section you\\'re reading. Also, keep associating what you\\'ve recently learned with what you\\'ve already known (days ago, years ago).Be curious and validate that you really understand what you think you understand.',\n",
       " \"Although, I think what you're describing doesn't completely lie on the reader. Oftentimes, the author has plain just not explained things clearly or even remotely well, and the reader has to play a little bit of 20 questions to get to the meat of something. When a book is properly written, then the shared load between the reader and the writer is much more balanced.\",\n",
       " \"It used to pose as a difficulty for self leaners because they did not have access to assignments, exams and solutions unless they register for classes.Nowadays it's a lot easier when there are so many free materials from top school online. And stack exchange and reddit is available almost 24-7 if one ever has a question.\",\n",
       " '> It used to pose as a difficulty for self leaners because they did not have access to assignments, exams and solutions unless they register for classes.Many textbooks still employ the deplorable practice of not presenting the answer to all exercises at the end, unfortunately.',\n",
       " \"It's kind of a tautology though. Physics isn't remotely special in this regard at all, and it doesn't need generalizing from physics. One needs to work through anything to truly learn it: music, sports, gardening, life, writing, etc.\",\n",
       " 'In college, I was always the first one out of my friends to “get” a concept, like fast Fourier transforms, anything with signal processing or even coding or any labs we had to do etc so I would spend time teaching them in the library. However I never did any of the exercises, mostly due to laziness and not arrogance. They would get A’s and I would get C’s and D’s.I emphasize this story to my kids because knowing isn’t important because everyone eventually figure it out. It’s the ones who can do the problems and get good marks that succeed in the end.',\n",
       " 'Especially these days, the bar for “knowing” Fourier transforms is simply a 7 minute video from 3blue1brown.The gap between knowers and doers will only get larger as math explainers improve their content.',\n",
       " \"This is kind of interesting to hear because I was the other way around. I found the best way to understand something was to teach it to others. That way I took what I already understood and was able to see what other people misunderstood, which was often something I'd never expected to be an issue, and add their experience in learning the topic on to what I already knew which expanded my overall understanding.Then again, in the process of teaching I always found myself teaching people to work problems, which required me to be able to work the problems myself. In a way, it's kind of impressive you managed to avoid doing that.\",\n",
       " \"I think this shows a lack of self-doubt, which can be deadly. Those problems acted as verificationto yourselfthat you understood the theory and its application. If you truly understood the material, then the problems would be zero effort. However, if you struggled with them it's a signal that you don't know what you think you know.\",\n",
       " 'As someone who had an a similar experience to whom you are replying to, this was definitely not the case. The problems were easy, but were not \"zero effort\". Even if it takes you only a few minutes to do the steps and show the work per problem, then that could still take you 30-60 minutes to complete the assignment. That was time I\\'d spend doing things I wanted to do (fun in the short term, a nightmare in the long term).',\n",
       " \"Yes, and I'd take it further. What I'd like to see more of in physics texts is presenting a problembeforeoffering the solution. Too often you get what amounts to a laundry list of techniques and ideas, which are the components to the answers to hard problems, but the student isn't motivated to learn them. If you present the hard problem first, the student may flail around and realize: I need something to help with this! Now that they know they need it, and why, you can give them the tool that fits the bill. For example, I think calculus is probably better learnedaftertrying to write down some force laws, and perhaps doing some numerical analysis. Then when you learn them you realize those nice closed-form solutions aren't busywork, they arehugelabor saving tools that eliminate ad hoc labor intensive analysis.I would alsodeemphasizethe more mathy parts of calculus - do you really need a deep dive into continuity or the fundamental theorem of calculus? Eventually, yes. But it's just like programming: you're not going to need to understand language theory or ADTs or category theory or lambda calculus to write your first program. Or your second. And, IMHO, you should only reach for this understanding when you realize you need it. Otherwise, it won't integrate well into your toolkit.\",\n",
       " '> If you present the hard problem first, the student may flail around and realize: I need something to help with this!I suffer from this. Sure, I\\'d like to learn physics, but what I don\\'t want to do is learn all of it. Right now. Because what I\\'d rather learn is what I need to solve the problem I have. It\\'s a silly problem, it\\'s not real world, but it\\'s my problem that I\\'d like solved.As I\\'ve grabbed my horse and lance and rushed at this windmill from assorted directions, I quickly run into my limitations that prevent the problem being solved. I run into vocabulary problems with the math, the fact that I simply don\\'t have the math to approach the problem (which appears to be some vector calculus -- I think. \"No, you idiot, it\\'s XYZ instead\", but I don\\'t know enough to know that it\\'s not vector calculus, if, indeed, it isn\\'t). I try to apply basic kinematics to the problem, but I don\\'t know if that\\'s enough. And, finally, it could be all of those things plus, oh, some optimization issues and, also, would you like to be introduced to the several different techniques for computing numeric integration and the differential equation solvers?\"Eeep!\"To quote the film \"Addams Family Values\":Wednesday: Pugsley, the baby weighs 10 pounds, the cannonball weighs 20 pounds. Which will hit the stone walkway first?\\n  Pugsley: I\\'m still on fractions.So, yea, that\\'s me, I\\'m Pugsley. It seems I need 2+ years of mechanics, calculus, and differential equations, and, probably, some time with computer based simulation all to chart the course for a spaceship to a planet for a 40 year old role playing game. Of course, I don\\'t know what the, perhaps, abbreviated path I could take through those domains to get to be able to answer my question. That might knock a year off the study, but, unlikely. \"Better to have all of the foundation\" and all that. Which is true, but I\\'m kind of after the \"reward\" part here, not so much the \"journey\".',\n",
       " 'You might dig “The Theoretical Minimum” by Susskind, as well as his follow-on books. And he has associated lectures on YouTube.',\n",
       " \"> What I'd like to see more of in physics texts is presenting a problem before offering the solution.Yes.> If you present the hard problem first, the student may flail around and realize: I need something to help with this! Now that they know they need it, and why, you can give them the tool that fits the bill.No.If an instructor deliberately gives a student a problem that they know the student _cannot_ solve, then it rightfully destroys trust.I never taught at the university level, but with middle and high school math students I taught them to how (re)discover the solutions, rather than teaching them the solutions directly.As a practical matter, many of my college classes went too quickly to do anything _but_ teach the solution -- or tell us to learn it between classes and bring questions back.\",\n",
       " '> If an instructor deliberately gives a student a problem that they know the student _cannot_ solve, then it rightfully destroys trust.This does not destroy trust, but gives the student an important lesson: we only have the techniques to solve, say, 0.0000001% of the problems. So you have to learn brutally hard for the next many years (or rather decades) to have the minimal qualifications to be able to invent whole new techniques that no person has ever come up in history before to increase this ratio from, say,to 0.000000100000000001% (even this would trigger a whole new aera in the history of science).',\n",
       " 'I don\\'t think it breaks trust, if you tell them what\\'s going on. \"Hey kids, I\\'m going to give you a problem that went unsolved until Newton. I don\\'t expect you to find his answer, which I\\'ll teach you later, but I want you to try to solve it your own way.\"',\n",
       " 'I am surprised that condensed matter and solid state physics is considered a supplement/elective.',\n",
       " \"> Classical Electrodynamics by Jackson (essential). This is the bible of classical electrodynamics, and everyone who works through either loves it or hates it (I loved it).I agree that there is a division between who loves that book (like the author) and the majority of the graduate students who had nightmares (and sometimes still gets). I like this goodreads review of the book [1]> A soul crushing technical manual written by a sadist that has served as the right of passage for physics PhDs since the dawn of time. Every single one of my professors studied this book, and every single one of them hates it with a passion. While I've no intention of becoming a professor, I still wonder, will my colleagues also inflict this torture on their students? Will the cycle be perpetuated ad infinitum? How many more aspiring physicists will we leave battered and bruised at the gates of insanity before switching to a textbook that seeks to make electrodynamics clear and intuitive rather than a mind-numbing trip through the seventh circle of hell?[1]https://www.goodreads.com/review/show/1266180525* personal note: If this book is really the bible of classical mechanics, then I'm atheist.\",\n",
       " \"It is interesting that 2 years later the same reviewer changes their mind a bit:> Now, a few years after writing that review, I must return to say that as much as I hate this book, it's probably the best textbook that I have. I constantly return to it to reteach myself basic concepts or math. The problem with the text is that in order for it to be useful, you pretty much have to already understand the material. It's a dense, technical manual that, when paired with an easier to understand text such as Griffiths, grants tremendous power. Don't get me wrong, if there is a hell, I personally hope John David Jackson is burning in it right now, but I also have to tip my hat to him\",\n",
       " \"Well yes, but curious what book you would recommend instead for graduate electrodynamics? Note that she already recommends first studying Griffith'sIntroduction to Electrodynamicsat the undergraduate level (and that one is a true pleasure to read imho).\",\n",
       " \"I'm happy that many professors start to use  Zangwill's Modern Electrodynamics [1] textbook. It seems more focused on explaining things and don't assume that you know too much (which you usually have no idea if you should have known something or you just an idiot) like Jackson.[1]https://www.amazon.com/dp/0521896975/\",\n",
       " \"From what I've heard, the value of Jackson is not the EM you'll learn, but the mathematical techniques you'll learn, which are widely applicable beyond EM.\",\n",
       " 'The title should probably be: \"So you want to learntheoreticalphysics\".While generally little known and appreciated among modern theorists and mathematical physicists, physics is actually anempiricalscience. In other words, every single section of that reading list is based directly or indirectly on a diverse and sophisticated set of devices and measurement configurations (aka experiments). Also, most progress in our understanding the physical universe follows simply from inventing ever better probes and opening new observation windows.A computer analogy of the theoretical/empirical physics relation might be fun: You can spend your whole life writing application software and never even know what digital devices you are actually using. That\\'s totally legit. But if you want to write a new computer language (= a new theory) you most likely will have to dig into memory architectures and caches and all that stuff. If you want to dramatically increase the speed of computation (= a new observation window) you have to design a new chip. And if you want to go really deep and invent new computing paradigms, well then you need to learn quantum mechanics :-)In fairness, she does have a final sentence about that weird place calledlaboratory(= a place of labor).> And, finally, a note on learning in a laboratory vs. learning from textbooks. Physics is both an experimental and theoretical science, and while research happens in laboratories and on blackboards and computers, the majority of any physics education does not take place in a laboratory but in lecture classes that teach from textbooks and assign homework problems that are found in textbooks.My recommendation for a comprehensive intro into theoretical physics isThe Road to Reality by Roger Penrose. Alas there is no such profound review of all experimental physics.',\n",
       " \"She just lists the standard curriculum through undergraduate and graduate degrees. I clicked the links to all the books and my Amazon has the purchase dates from when I took those courses. It's not specific at all to theoretical physics.\",\n",
       " 'To help with some of the math required by general relativity, there\\'s a good series on YouTube by the user \"eigenchris\" on tensor calculus, which I found helpful for a geometric intuition of what\\'s going on. He also has a series on GR itself, which I haven\\'t watched yet. If you\\'re interested in learning GR and want specific information on the area of differential geometry you\\'ll need to understand it, then this series is a great start.',\n",
       " 'So happy to see the love for Griffith’s Intro to Electrodynamics. I know it gets dinged for not being sufficiently rigorous, but I’ve never read another math or science textbook that did as good a job of getting a beginner to truly understand the subject.',\n",
       " 'I think solid state continuum mechanics are also the optimal place to introduce tensors. For some reason, the first tensors many physics students encounter are very abstract. It would be like if the first vectors you encountered were quantum mechanical states. Stress and strain are, in my opinion, the ideal \"prototypical rank-2 tensors\", and it\\'s useful to spend time really elaborating what that means, the same way we teach students to think of vectors as \"things that look like displacement/velocity\".',\n",
       " 'I noticed that too, and my explanation was that physics education needs to set itself apart from engineering.Classical ( non relativistic ) field theories by now are undergrad engineering topics, but there are only a few quantum engineers.Most of the non quantum topics in modern undergrad physics curricula, is needed to make sense of quantum[ thermodynamics, filed theory, optics, something ]',\n",
       " 'Introduction to the Physics of Fluids and Solids by James Trefil might be interesting for you.']"
      ]
     },
     "execution_count": 38,
     "metadata": {},
     "output_type": "execute_result"
    }
   ],
   "source": [
    "sample.iloc[2].comments"
   ]
  },
  {
   "cell_type": "code",
   "execution_count": null,
   "id": "19a4b8ea",
   "metadata": {},
   "outputs": [],
   "source": []
  }
 ],
 "metadata": {
  "kernelspec": {
   "display_name": "Python 3 (ipykernel)",
   "language": "python",
   "name": "python3"
  },
  "language_info": {
   "codemirror_mode": {
    "name": "ipython",
    "version": 3
   },
   "file_extension": ".py",
   "mimetype": "text/x-python",
   "name": "python",
   "nbconvert_exporter": "python",
   "pygments_lexer": "ipython3",
   "version": "3.8.16"
  }
 },
 "nbformat": 4,
 "nbformat_minor": 5
}
