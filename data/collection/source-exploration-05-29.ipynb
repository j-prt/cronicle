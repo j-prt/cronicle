{
 "cells": [
  {
   "cell_type": "code",
   "execution_count": 1,
   "id": "9479a09d",
   "metadata": {},
   "outputs": [],
   "source": [
    "import pandas as pd\n",
    "from bs4 import BeautifulSoup\n",
    "import requests"
   ]
  },
  {
   "cell_type": "code",
   "execution_count": 3,
   "id": "43598d91",
   "metadata": {},
   "outputs": [],
   "source": [
    "headers = {\n",
    "    \"Accept-Language\":\"en-US,en;q=0.9\",\n",
    "    \"User-Agent\":\"Mozilla/5.0 (Macintosh; \\\n",
    "    Intel Mac OS X 10_15_7) \\\n",
    "    AppleWebKit/537.36 (KHTML, like Gecko) \\\n",
    "    Chrome/98.0.4758.102 Safari/537.36\"\n",
    "}\n"
   ]
  },
  {
   "cell_type": "code",
   "execution_count": 8,
   "id": "dfb71f31",
   "metadata": {},
   "outputs": [],
   "source": [
    "# res = requests.get('https://www.ssrn.com/index.cfm/en/', headers=headers)\n",
    "res = requests.get('https://arxiv.org/', headers=headers)"
   ]
  },
  {
   "cell_type": "code",
   "execution_count": 20,
   "id": "8981975d",
   "metadata": {},
   "outputs": [],
   "source": [
    "import feedparser"
   ]
  },
  {
   "cell_type": "code",
   "execution_count": 61,
   "id": "7c27ac74",
   "metadata": {},
   "outputs": [],
   "source": [
    "# Test case 1\n",
    "f_parse1 = feedparser.parse('http://export.arxiv.org/api/query?search_query=ti:\\\n",
    "\"electron%20thermal%20conductivity\"&sortBy=lastUpdatedDate&sortOrder=ascending')"
   ]
  },
  {
   "cell_type": "code",
   "execution_count": 93,
   "id": "6e8d9ec0",
   "metadata": {},
   "outputs": [],
   "source": [
    "# Test case 2\n",
    "f_parse2 = feedparser.parse('http://export.arxiv.org/api/query?sea\\\n",
    "rch_query=cat:cs.*+OR+cat:econ.*+OR+cat:stat.ML&sortBy=lastUpdatedDate&sortOrder=descending')"
   ]
  },
  {
   "cell_type": "code",
   "execution_count": 165,
   "id": "b09b8f5c",
   "metadata": {},
   "outputs": [],
   "source": [
    "# Define collection of recent arXiv papers by category / collection of categories\n",
    "# Reference for category names: https://arxiv.org/category_taxonomy\n",
    "import feedparser\n",
    "import time\n",
    "\n",
    "\n",
    "def collect_arxiv(cats, limit=50, checkpoint=None):\n",
    "    \"\"\"Collect arXiv papers by category using feedparser.\n",
    "    \n",
    "    Params\n",
    "    ----------\n",
    "    cats: list[str]\n",
    "        List of categories in arXiv format e.g. cs.AI for artificial intelligence.\n",
    "    limit: int, default = 50\n",
    "        Total number of papers to be retrieved. Should be a multiple of 10. \n",
    "        \n",
    "    checkpoint : str, default = None\n",
    "        URL of the most recent paper for a particular query. To be used \n",
    "        in the case of repeated queries. Collection will terminate if the checkpoint\n",
    "        is encountered.\n",
    "        \n",
    "    Returns\n",
    "    ----------\n",
    "    Tuple[list, str] : (List of dicts, checkpoint)\n",
    "        Each dict refers to a paper. Checkpoint is the url from the most \n",
    "        recent paper retrieved.\"\"\"\n",
    "    \n",
    "    base_url = 'http://export.arxiv.org/api/query?search_query='\n",
    "    params = '&sortBy=lastUpdatedDate&sortOrder=descending'\n",
    "    \n",
    "    cat_concat = '+OR+'.join(['cat:'+cat for cat in cats])\n",
    "    \n",
    "    # Defaults\n",
    "    start = 0\n",
    "    page_size = 10\n",
    "    crawl_delay = 0\n",
    "    entries = []\n",
    "    new_checkpoint = checkpoint\n",
    "    \n",
    "    for i in range(start, limit, page_size):\n",
    "        feed = feedparser.parse(base_url+cat_concat+params+f'&start={i}&max_results={page_size}')\n",
    "        \n",
    "        # Check for failed retrievals\n",
    "        if not feed.bozo and feed.entries:\n",
    "            for entry in feed.entries:\n",
    "                # Early stopping condition\n",
    "                if entry.link == checkpoint:\n",
    "                    return entries, new_checkpoint\n",
    "                # Build a dict from entry details\n",
    "                entries.append({\n",
    "                    'title': entry.title_detail.value,\n",
    "                    'summary': entry.summary_detail.value,\n",
    "                    'author': entry.author,\n",
    "                    'url': entry.link,\n",
    "                    'category': entry.arxiv_primary_category['term']\n",
    "                })\n",
    "            # Set a new checkpoint after first successful update\n",
    "            if new_checkpoint == checkpoint:\n",
    "                new_checkpoint = entries[0]['url']\n",
    "                \n",
    "        time.sleep(crawl_delay)\n",
    "            \n",
    "    return entries, new_checkpoint"
   ]
  },
  {
   "cell_type": "code",
   "execution_count": 166,
   "id": "67759361",
   "metadata": {},
   "outputs": [],
   "source": [
    "# Function test case\n",
    "my_cats = ['cs.*', 'econ.*', 'stat.ML']\n",
    "\n",
    "results = collect_arxiv(my_cats, 30)"
   ]
  },
  {
   "cell_type": "code",
   "execution_count": 167,
   "id": "75abb92a",
   "metadata": {},
   "outputs": [
    {
     "data": {
      "text/plain": [
       "{'title': 'Are We Really Making Much Progress in Text Classification? A Comparative\\n  Review',\n",
       " 'summary': 'This study reviews and compares methods for single-label and multi-label text\\nclassification, categorized into bag-of-words, sequence-based, graph-based, and\\nhierarchical methods. The comparison aggregates results from the literature\\nover five single-label and seven multi-label datasets and complements them with\\nnew experiments. The findings reveal that all recently proposed graph-based and\\nhierarchy-based methods fail to outperform pre-trained language models and\\nsometimes perform worse than standard machine learning methods like a\\nmultilayer perceptron on a bag-of-words. To assess the true scientific progress\\nin text classification, future work should thoroughly test against strong\\nbag-of-words baselines and state-of-the-art pre-trained language models.',\n",
       " 'author': 'Ansgar Scherp',\n",
       " 'url': 'http://arxiv.org/abs/2204.03954v4',\n",
       " 'category': 'cs.CL'}"
      ]
     },
     "execution_count": 167,
     "metadata": {},
     "output_type": "execute_result"
    }
   ],
   "source": [
    "results[0][0]"
   ]
  }
 ],
 "metadata": {
  "kernelspec": {
   "display_name": "Python 3 (ipykernel)",
   "language": "python",
   "name": "python3"
  },
  "language_info": {
   "codemirror_mode": {
    "name": "ipython",
    "version": 3
   },
   "file_extension": ".py",
   "mimetype": "text/x-python",
   "name": "python",
   "nbconvert_exporter": "python",
   "pygments_lexer": "ipython3",
   "version": "3.8.16"
  }
 },
 "nbformat": 4,
 "nbformat_minor": 5
}
